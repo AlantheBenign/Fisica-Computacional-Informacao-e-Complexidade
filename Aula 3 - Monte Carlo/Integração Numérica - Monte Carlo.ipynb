{
 "cells": [
  {
   "cell_type": "code",
   "execution_count": 16,
   "metadata": {},
   "outputs": [],
   "source": [
    "import numpy as np\n",
    "import matplotlib.pyplot as plt\n",
    "from statsmodels.graphics import tsaplots\n",
    "from IPython.display import clear_output"
   ]
  },
  {
   "cell_type": "code",
   "execution_count": 35,
   "metadata": {},
   "outputs": [
    {
     "name": "stdin",
     "output_type": "stream",
     "text": [
      "digite 1 se não quiser rodar esse programa, pois ele demora sdhfsdhf\n"
     ]
    },
    {
     "name": "stdout",
     "output_type": "stream",
     "text": [
      "\n"
     ]
    }
   ],
   "source": [
    "N = 1000\n",
    "dardos = [100,1000,10000]\n",
    "\n",
    "a = input(\"digite 1 se não quiser rodar esse programa, pois ele demora\")\n",
    "if a == False:\n",
    "    dentro = 0\n",
    "    media = 0\n",
    "    soma = 0\n",
    "\n",
    "    for i in dardos:\n",
    "        pis = np.array([])\n",
    "        soma = 0\n",
    "        media = 0\n",
    "        for j in range(N):\n",
    "            dentro = 0\n",
    "            for k in range(i):\n",
    "                x = 2*np.random.random(1) - 1\n",
    "                y = 2*np.random.random(1) - 1\n",
    "                if x*x + y*y <= 1:\n",
    "                    dentro += 1\n",
    "            pi = dentro/i * 4\n",
    "            pis = np.append(pis,pi)\n",
    "            soma += pi\n",
    "        media = soma/N\n",
    "        plt.figure()\n",
    "        plt.hist(pis,100)\n",
    "        plt.xlim(2.64,3.64)\n",
    "        plt.show()\n",
    "        print(media)\n",
    "else:\n",
    "    print(\"\")"
   ]
  },
  {
   "cell_type": "markdown",
   "metadata": {},
   "source": [
    "#### Cálculo do erro da amostra"
   ]
  },
  {
   "cell_type": "code",
   "execution_count": 105,
   "metadata": {},
   "outputs": [],
   "source": [
    "def erro(integrais):\n",
    "    tamanho = len(integrais)\n",
    "    soma = 0\n",
    "    \n",
    "    for i in range(tamanho):\n",
    "        soma += integrais[i]\n",
    "    media = soma/tamanho\n",
    "    \n",
    "    somatorio = 0\n",
    "    \n",
    "    for i in range(tamanho):\n",
    "        somatorio += (integrais[i] - media)*(integrais[i] - media)\n",
    "    \n",
    "    res = np.sqrt(1/(tamanho * (tamanho - 1)) * somatorio)\n",
    "    \n",
    "    return res"
   ]
  },
  {
   "cell_type": "markdown",
   "metadata": {},
   "source": [
    "#### Método 1"
   ]
  },
  {
   "cell_type": "code",
   "execution_count": 106,
   "metadata": {},
   "outputs": [],
   "source": [
    "def metodo1(func, lim_inf, lim_sup, amostras=1000, plotar=False):\n",
    "    pontos = [100,1000,10000]\n",
    "    \n",
    "    xs = (lim_sup - lim_inf) * np.random.random(10000) + lim_inf\n",
    "    ys = func(xs)\n",
    "    fmin = 0\n",
    "    if min(ys) < 0:\n",
    "        fmin = min(ys)\n",
    "    fmax = max(ys)\n",
    "\n",
    "    for i in pontos:\n",
    "        soma = 0\n",
    "        media = 0\n",
    "        integrais = np.array([])\n",
    "        for j in range(amostras):\n",
    "            dentro = 0\n",
    "            for k in range(i):\n",
    "                x = (lim_sup - lim_inf) * np.random.random(1) + lim_inf\n",
    "                y = (fmax - fmin) * np.random.random(1) + fmin\n",
    "                if y <= func(x) and y >= 0:\n",
    "                    dentro += 1\n",
    "                elif y >= func(x) and y <= 0:\n",
    "                    dentro -= 1\n",
    "            integral = dentro/i * (lim_sup - lim_inf) * (fmax - fmin)\n",
    "            integrais = np.append(integrais, integral)\n",
    "            soma += integral\n",
    "        media = soma/amostras\n",
    "        print(\"Resultado da integral para \" + str(i) + \" pontos: \" + str(media))\n",
    "        err = erro(integrais)\n",
    "        print(\"Resultado do erro padrão da média para \" + str(i) + \" pontos: \" + str(err))\n",
    "        if plotar == True:\n",
    "            plt.figure()\n",
    "            plt.hist(integrais,100)\n",
    "            plt.show()"
   ]
  },
  {
   "cell_type": "markdown",
   "metadata": {},
   "source": [
    "#### Método 2"
   ]
  },
  {
   "cell_type": "code",
   "execution_count": 117,
   "metadata": {},
   "outputs": [],
   "source": [
    "def metodo2(func, lim_inf, lim_sup, amostras=1000, plotar=False):\n",
    "    pontos = [100,1000,10000]\n",
    "\n",
    "    for i in pontos:\n",
    "        soma = 0\n",
    "        media = 0\n",
    "        integrais = np.array([])\n",
    "        for j in range(amostras):\n",
    "            somatorio = 0\n",
    "            xs = (lim_sup - lim_inf) * np.random.random(i) + lim_inf\n",
    "            ys = func(xs)\n",
    "            for k in ys:\n",
    "                somatorio += k\n",
    "            integral = somatorio/i * (lim_sup - lim_inf) \n",
    "            integrais = np.append(integrais, integral)\n",
    "            soma += integral\n",
    "        media = soma/amostras\n",
    "        print(\"Resultado da integral para \" + str(i) + \" pontos: \" + str(\"%.8f\" % media))\n",
    "        err = erro(integrais)\n",
    "        print(\"Resultado do erro padrão da média para \" + str(i) + \" pontos: \" + str(\"%.8f\" % err))\n",
    "        if plotar == True:\n",
    "            plt.figure()\n",
    "            plt.hist(integrais,100)\n",
    "            plt.show()"
   ]
  },
  {
   "cell_type": "markdown",
   "metadata": {},
   "source": [
    "### Tarefa 5.1\n",
    "\n",
    "#### 1. . . . . . (1-x²) de 0 a 1"
   ]
  },
  {
   "cell_type": "code",
   "execution_count": 122,
   "metadata": {},
   "outputs": [
    {
     "name": "stdin",
     "output_type": "stream",
     "text": [
      "digite 1 se não quiser rodar esse programa, pois ele demora 0\n"
     ]
    },
    {
     "name": "stdout",
     "output_type": "stream",
     "text": [
      "Resultado da integral para 100 pontos: 0.6656299999947864\n",
      "Resultado do erro padrão da média para 100 pontos: 0.0015070747739706852\n"
     ]
    },
    {
     "data": {
      "image/png": "[encoded data removed]",
      "text/plain": [
       "<Figure size 432x288 with 1 Axes>"
      ]
     },
     "metadata": {
      "needs_background": "light"
     },
     "output_type": "display_data"
    },
    {
     "name": "stdout",
     "output_type": "stream",
     "text": [
      "Resultado da integral para 1000 pontos: 0.665407999994789\n",
      "Resultado do erro padrão da média para 1000 pontos: 0.0004611270694405648\n"
     ]
    },
    {
     "data": {
      "image/png": "[encoded data removed]",
      "text/plain": [
       "<Figure size 432x288 with 1 Axes>"
      ]
     },
     "metadata": {
      "needs_background": "light"
     },
     "output_type": "display_data"
    },
    {
     "name": "stdout",
     "output_type": "stream",
     "text": [
      "Resultado da integral para 10000 pontos: 0.666582599994779\n",
      "Resultado do erro padrão da média para 10000 pontos: 0.00014916751720076203\n"
     ]
    },
    {
     "data": {
      "image/png": "[encoded data removed]",
      "text/plain": [
       "<Figure size 432x288 with 1 Axes>"
      ]
     },
     "metadata": {
      "needs_background": "light"
     },
     "output_type": "display_data"
    }
   ],
   "source": [
    "def funcao1(x):\n",
    "    return (1-x*x)\n",
    "\n",
    "a = input(\"digite 1 se não quiser rodar esse programa, pois ele demora\")\n",
    "if a == '0':\n",
    "    metodo1(funcao1,0,1,1000,True)"
   ]
  },
  {
   "cell_type": "code",
   "execution_count": 119,
   "metadata": {},
   "outputs": [
    {
     "name": "stdout",
     "output_type": "stream",
     "text": [
      "Resultado da integral para 100 pontos: 0.66659432\n",
      "Resultado do erro padrão da média para 100 pontos: 0.00093921\n"
     ]
    },
    {
     "data": {
      "image/png": "[encoded data removed]",
      "text/plain": [
       "<Figure size 432x288 with 1 Axes>"
      ]
     },
     "metadata": {
      "needs_background": "light"
     },
     "output_type": "display_data"
    },
    {
     "name": "stdout",
     "output_type": "stream",
     "text": [
      "Resultado da integral para 1000 pontos: 0.66681010\n",
      "Resultado do erro padrão da média para 1000 pontos: 0.00029979\n"
     ]
    },
    {
     "data": {
      "image/png": "[encoded data removed]",
      "text/plain": [
       "<Figure size 432x288 with 1 Axes>"
      ]
     },
     "metadata": {
      "needs_background": "light"
     },
     "output_type": "display_data"
    },
    {
     "name": "stdout",
     "output_type": "stream",
     "text": [
      "Resultado da integral para 10000 pontos: 0.66653111\n",
      "Resultado do erro padrão da média para 10000 pontos: 0.00009272\n"
     ]
    },
    {
     "data": {
      "image/png": "[encoded data removed]",
      "text/plain": [
       "<Figure size 432x288 with 1 Axes>"
      ]
     },
     "metadata": {
      "needs_background": "light"
     },
     "output_type": "display_data"
    }
   ],
   "source": [
    "metodo2(funcao1,0,1,1000,True)"
   ]
  },
  {
   "cell_type": "markdown",
   "metadata": {},
   "source": [
    "#### 2. . . . . . e^x de 0 a 1"
   ]
  },
  {
   "cell_type": "code",
   "execution_count": 90,
   "metadata": {},
   "outputs": [
    {
     "name": "stdin",
     "output_type": "stream",
     "text": [
      "digite 1 se não quiser rodar esse programa, pois ele demora 0\n"
     ]
    },
    {
     "name": "stdout",
     "output_type": "stream",
     "text": [
      "Resultado da integral para 100 pontos: 1.7169804079044282\n"
     ]
    },
    {
     "data": {
      "image/png": "[encoded data removed]",
      "text/plain": [
       "<Figure size 432x288 with 1 Axes>"
      ]
     },
     "metadata": {
      "needs_background": "light"
     },
     "output_type": "display_data"
    },
    {
     "name": "stdout",
     "output_type": "stream",
     "text": [
      "Resultado da integral para 1000 pontos: 1.716665091309299\n"
     ]
    },
    {
     "data": {
      "image/png": "[encoded data removed]",
      "text/plain": [
       "<Figure size 432x288 with 1 Axes>"
      ]
     },
     "metadata": {
      "needs_background": "light"
     },
     "output_type": "display_data"
    },
    {
     "name": "stdout",
     "output_type": "stream",
     "text": [
      "Resultado da integral para 10000 pontos: 1.718254450043567\n"
     ]
    },
    {
     "data": {
      "image/png": "[encoded data removed]",
      "text/plain": [
       "<Figure size 432x288 with 1 Axes>"
      ]
     },
     "metadata": {
      "needs_background": "light"
     },
     "output_type": "display_data"
    }
   ],
   "source": [
    "def funcao2(x):\n",
    "    return np.exp(x)\n",
    "\n",
    "a = input(\"digite 1 se não quiser rodar esse programa, pois ele demora\")\n",
    "if a == '0':\n",
    "    metodo1(funcao2,0,1,1000,True)"
   ]
  },
  {
   "cell_type": "code",
   "execution_count": 120,
   "metadata": {},
   "outputs": [
    {
     "name": "stdout",
     "output_type": "stream",
     "text": [
      "Resultado da integral para 100 pontos: 1.72036423\n",
      "Resultado do erro padrão da média para 100 pontos: 0.00154388\n"
     ]
    },
    {
     "data": {
      "image/png": "[encoded data removed]",
      "text/plain": [
       "<Figure size 432x288 with 1 Axes>"
      ]
     },
     "metadata": {
      "needs_background": "light"
     },
     "output_type": "display_data"
    },
    {
     "name": "stdout",
     "output_type": "stream",
     "text": [
      "Resultado da integral para 1000 pontos: 1.71755717\n",
      "Resultado do erro padrão da média para 1000 pontos: 0.00050928\n"
     ]
    },
    {
     "data": {
      "image/png": "[encoded data removed]",
      "text/plain": [
       "<Figure size 432x288 with 1 Axes>"
      ]
     },
     "metadata": {
      "needs_background": "light"
     },
     "output_type": "display_data"
    },
    {
     "name": "stdout",
     "output_type": "stream",
     "text": [
      "Resultado da integral para 10000 pontos: 1.71812496\n",
      "Resultado do erro padrão da média para 10000 pontos: 0.00015417\n"
     ]
    },
    {
     "data": {
      "image/png": "[encoded data removed]",
      "text/plain": [
       "<Figure size 432x288 with 1 Axes>"
      ]
     },
     "metadata": {
      "needs_background": "light"
     },
     "output_type": "display_data"
    }
   ],
   "source": [
    "metodo2(funcao2,0,1,1000,True)"
   ]
  },
  {
   "cell_type": "markdown",
   "metadata": {},
   "source": [
    "#### 3. . . . . . sin^2(x) de 0 a pi"
   ]
  },
  {
   "cell_type": "code",
   "execution_count": 91,
   "metadata": {},
   "outputs": [
    {
     "name": "stdin",
     "output_type": "stream",
     "text": [
      "digite 1 se não quiser rodar esse programa, pois ele demora 0\n"
     ]
    },
    {
     "name": "stdout",
     "output_type": "stream",
     "text": [
      "Resultado da integral para 100 pontos: 1.5735294806906797\n"
     ]
    },
    {
     "data": {
      "image/png": "[encoded data removed]",
      "text/plain": [
       "<Figure size 432x288 with 1 Axes>"
      ]
     },
     "metadata": {
      "needs_background": "light"
     },
     "output_type": "display_data"
    },
    {
     "name": "stdout",
     "output_type": "stream",
     "text": [
      "Resultado da integral para 1000 pontos: 1.5726184188395023\n"
     ]
    },
    {
     "data": {
      "image/png": "[encoded data removed]",
      "text/plain": [
       "<Figure size 432x288 with 1 Axes>"
      ]
     },
     "metadata": {
      "needs_background": "light"
     },
     "output_type": "display_data"
    },
    {
     "name": "stdout",
     "output_type": "stream",
     "text": [
      "Resultado da integral para 10000 pontos: 1.5705722995854579\n"
     ]
    },
    {
     "data": {
      "image/png": "[encoded data removed]",
      "text/plain": [
       "<Figure size 432x288 with 1 Axes>"
      ]
     },
     "metadata": {
      "needs_background": "light"
     },
     "output_type": "display_data"
    }
   ],
   "source": [
    "def funcao3(x):\n",
    "    return np.sin(x)*np.sin(x)\n",
    "\n",
    "a = input(\"digite 1 se não quiser rodar esse programa, pois ele demora\")\n",
    "if a == '0':\n",
    "    metodo1(funcao3,0,np.pi,1000,True)"
   ]
  },
  {
   "cell_type": "code",
   "execution_count": 121,
   "metadata": {},
   "outputs": [
    {
     "name": "stdout",
     "output_type": "stream",
     "text": [
      "Resultado da integral para 100 pontos: 1.57362686\n",
      "Resultado do erro padrão da média para 100 pontos: 0.00350483\n"
     ]
    },
    {
     "data": {
      "image/png": "[encoded data removed]",
      "text/plain": [
       "<Figure size 432x288 with 1 Axes>"
      ]
     },
     "metadata": {
      "needs_background": "light"
     },
     "output_type": "display_data"
    },
    {
     "name": "stdout",
     "output_type": "stream",
     "text": [
      "Resultado da integral para 1000 pontos: 1.57121587\n",
      "Resultado do erro padrão da média para 1000 pontos: 0.00116258\n"
     ]
    },
    {
     "data": {
      "image/png": "[encoded data removed]",
      "text/plain": [
       "<Figure size 432x288 with 1 Axes>"
      ]
     },
     "metadata": {
      "needs_background": "light"
     },
     "output_type": "display_data"
    },
    {
     "name": "stdout",
     "output_type": "stream",
     "text": [
      "Resultado da integral para 10000 pontos: 1.57057794\n",
      "Resultado do erro padrão da média para 10000 pontos: 0.00034505\n"
     ]
    },
    {
     "data": {
      "image/png": "[encoded data removed]",
      "text/plain": [
       "<Figure size 432x288 with 1 Axes>"
      ]
     },
     "metadata": {
      "needs_background": "light"
     },
     "output_type": "display_data"
    }
   ],
   "source": [
    "metodo2(funcao3,0,np.pi,1000,True)"
   ]
  },
  {
   "cell_type": "markdown",
   "metadata": {},
   "source": [
    "#### 4. . . . . . 1/((vec(r_1) + vec(r_2)) dot vec(r_3)) de 0 a pi"
   ]
  },
  {
   "cell_type": "markdown",
   "metadata": {},
   "source": [
    "#### Método 2 - Alternativo"
   ]
  },
  {
   "cell_type": "code",
   "execution_count": 170,
   "metadata": {},
   "outputs": [],
   "source": [
    "def metodo2_alt(func, lim_inf, lim_sup, pontos = 1000, amostras=100, plotar=False):\n",
    "    soma = 0\n",
    "    media = 0\n",
    "    integrais = np.array([])\n",
    "    for j in range(amostras):\n",
    "        somatorio = 0\n",
    "        for l in range(pontos):\n",
    "            xs = (lim_sup - lim_inf) * np.random.random(9) + lim_inf\n",
    "            y = func(xs[0],xs[1],xs[2],xs[3],xs[4],xs[5],xs[6],xs[7],xs[8])\n",
    "            somatorio += y\n",
    "        integral = somatorio/pontos * pow(lim_sup - lim_inf,9) \n",
    "        integrais = np.append(integrais, integral)\n",
    "        soma += integral\n",
    "    media = soma/amostras\n",
    "    print(\"Resultado da integral para \" + str(pontos) + \" pontos: \" + str(\"%.8f\" % media))\n",
    "    err = erro(integrais)\n",
    "    print(\"Resultado do erro padrão da média para \" + str(pontos) + \" pontos: \" + str(\"%.8f\" % err))\n",
    "    if plotar == True:\n",
    "        plt.figure()\n",
    "        plt.hist(integrais,100)\n",
    "        plt.show()"
   ]
  },
  {
   "cell_type": "code",
   "execution_count": 173,
   "metadata": {},
   "outputs": [
    {
     "name": "stdout",
     "output_type": "stream",
     "text": [
      "Resultado da integral para 10000 pontos: 0.86297746\n",
      "Resultado do erro padrão da média para 10000 pontos: 0.00022678\n"
     ]
    },
    {
     "data": {
      "image/png": "[encoded data removed]",
      "text/plain": [
       "<Figure size 432x288 with 1 Axes>"
      ]
     },
     "metadata": {
      "needs_background": "light"
     },
     "output_type": "display_data"
    }
   ],
   "source": [
    "def func4(x_1,x_2,x_3,y_1,y_2,y_3,z_1,z_2,z_3):\n",
    "    res = 1 / ( (x_1 + x_2) * x_3  + (y_1 + y_2) * y_3 + (z_1 + z_2) * z_3)\n",
    "    return res\n",
    "\n",
    "metodo2_alt(func4, 0, 1,10000,1000,True)"
   ]
  }
 ],
 "metadata": {
  "kernelspec": {
   "display_name": "Python 3",
   "language": "python",
   "name": "python3"
  },
  "language_info": {
   "codemirror_mode": {
    "name": "ipython",
    "version": 3
   },
   "file_extension": ".py",
   "mimetype": "text/x-python",
   "name": "python",
   "nbconvert_exporter": "python",
   "pygments_lexer": "ipython3",
   "version": "3.7.4"
  }
 },
 "nbformat": 4,
 "nbformat_minor": 4
}
