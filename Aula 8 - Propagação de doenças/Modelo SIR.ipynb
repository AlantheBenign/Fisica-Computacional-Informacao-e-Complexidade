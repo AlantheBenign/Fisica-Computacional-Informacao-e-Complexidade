{
 "cells": [
  {
   "cell_type": "code",
   "execution_count": 1,
   "metadata": {
    "collapsed": true
   },
   "outputs": [],
   "source": [
    "import numba\n",
    "from numba import njit\n",
    "import numpy as np\n",
    "import matplotlib.pyplot as plt\n",
    "import random as rd\n",
    "from matplotlib import colors\n",
    "import time\n",
    "from IPython import display"
   ]
  },
  {
   "cell_type": "code",
   "execution_count": 2,
   "metadata": {
    "collapsed": true
   },
   "outputs": [],
   "source": [
    "@njit\n",
    "def cond_inic(populacao):\n",
    "    N = len(populacao[0])\n",
    "    a = np.random.randint(N)\n",
    "    b = np.random.randint(N)\n",
    "    populacao[a][b] = 1\n",
    "    return populacao"
   ]
  },
  {
   "cell_type": "code",
   "execution_count": 3,
   "metadata": {
    "collapsed": true
   },
   "outputs": [],
   "source": [
    "@njit\n",
    "def evolui_contaminacao(populacao,p_c):\n",
    "    N = len(populacao[0])\n",
    "    \n",
    "    populacao_copia = np.zeros((N,N))\n",
    "    for i in range(N):\n",
    "        for j in range(N):\n",
    "            populacao_copia[i][j] = populacao[i][j]\n",
    "    \n",
    "    for i in range(N):\n",
    "        for j in range(N):\n",
    "            if populacao[i][j] == 0:\n",
    "                rnd = np.random.random()\n",
    "                if populacao[i][(j+1)%N] == 1 and rnd <= p_c:\n",
    "                    populacao_copia[i][j] = 1\n",
    "                    \n",
    "                rnd = np.random.random()\n",
    "                if populacao[(i+1)%N][j] == 1 and rnd <= p_c:\n",
    "                    populacao_copia[i][j] = 1\n",
    "                    \n",
    "                rnd = np.random.random()\n",
    "                if populacao[i][(j-1)%N] == 1 and rnd <= p_c:\n",
    "                    populacao_copia[i][j] = 1\n",
    "                    \n",
    "                rnd = np.random.random()\n",
    "                if populacao[(i-1)%N][j] == 1 and rnd <= p_c:\n",
    "                    populacao_copia[i][j] = 1\n",
    "                                        \n",
    "    return populacao_copia"
   ]
  },
  {
   "cell_type": "code",
   "execution_count": 4,
   "metadata": {
    "collapsed": true
   },
   "outputs": [],
   "source": [
    "@njit\n",
    "def evolui_recuperacao(populacao,p_r):\n",
    "    N = len(populacao[0])\n",
    "    \n",
    "    populacao_copia = populacao\n",
    "    \n",
    "    for i in range(N):\n",
    "        for j in range(N):\n",
    "            if populacao[i][j] == 1:\n",
    "                rnd = np.random.random()\n",
    "                if rnd <= p_r:\n",
    "                    populacao_copia[i][j] = 2\n",
    "                    \n",
    "    return populacao_copia"
   ]
  },
  {
   "cell_type": "code",
   "execution_count": 5,
   "metadata": {
    "collapsed": true
   },
   "outputs": [],
   "source": [
    "def plota_quad(populacao):\n",
    "    \n",
    "    N = len(populacao[0])\n",
    "    \n",
    "    # create discrete colormap\n",
    "    cmap = colors.ListedColormap([\"teal\",\"tomato\",\"dimgrey\"])\n",
    "    bounds = [0,0.9,1.9,3]\n",
    "    norm = colors.BoundaryNorm(bounds, cmap.N)\n",
    "\n",
    "    fig, ax = plt.subplots()\n",
    "    ax.imshow(populacao, cmap=cmap, norm=norm)\n",
    "\n",
    "    # draw gridlines\n",
    "    ax.grid(which='major', axis='both', linestyle='-', color='k', linewidth=2)\n",
    "    ax.set_xticks(np.arange(-.5, N, 1));\n",
    "    ax.set_yticks(np.arange(-.5, N, 1));\n",
    "\n",
    "    plt.show()"
   ]
  },
  {
   "cell_type": "code",
   "execution_count": 6,
   "metadata": {},
   "outputs": [
    {
     "data": {
      "image/png": "[encoded data removed]",
      "text/plain": [
       "<matplotlib.figure.Figure at 0x18c8f1bef28>"
      ]
     },
     "metadata": {},
     "output_type": "display_data"
    }
   ],
   "source": [
    "plota_quad([[0,0],[1,0]])"
   ]
  },
  {
   "cell_type": "markdown",
   "metadata": {},
   "source": [
    "SIMULA A EVOLUÇÃO DE UMA DOENÇA"
   ]
  },
  {
   "cell_type": "code",
   "execution_count": 13,
   "metadata": {},
   "outputs": [
    {
     "data": {
      "image/png": "[encoded data removed]",
      "text/plain": [
       "<Figure size 576x576 with 1 Axes>"
      ]
     },
     "metadata": {
      "needs_background": "light"
     },
     "output_type": "display_data"
    }
   ],
   "source": [
    "#Sistema\n",
    "N = 100\n",
    "populacao = np.zeros((N,N))\n",
    "p_c = 1\n",
    "p_r = 0.2\n",
    "\n",
    "suscetiveis = np.array([N*N-1])\n",
    "infectados = np.array([1])\n",
    "recuperados = np.array([0])\n",
    "\n",
    "populacao = cond_inic(populacao)\n",
    "\n",
    "a = True\n",
    "\n",
    "#Simulação\n",
    "while a:\n",
    "    #Passo temporal no qual verificamos novas contaminações\n",
    "    populacao = evolui_contaminacao(populacao,p_c)\n",
    "    \n",
    "    sus = 0\n",
    "    inf = 0\n",
    "    rec = 0\n",
    "    for i in range(N):\n",
    "        for j in range(N):\n",
    "            if populacao[i][j] == 0:\n",
    "                sus += 1\n",
    "            elif populacao[i][j] == 1:\n",
    "                inf += 1 \n",
    "            else:\n",
    "                rec += 1\n",
    "                \n",
    "    #suscetiveis = np.append(suscetiveis,sus)\n",
    "    #infectados = np.append(infectados,inf)\n",
    "    #recuperados = np.append(recuperados,rec)\n",
    "    \n",
    "    #Passo temporal no qual verificamos recuperações\n",
    "    populacao = evolui_recuperacao(populacao,p_r)\n",
    "    \n",
    "    #Condição de parada, se ainda houver alguém doente, a simulação continua\n",
    "    a = False\n",
    "    sus = 0\n",
    "    inf = 0\n",
    "    rec = 0\n",
    "    for i in range(N):\n",
    "        for j in range(N):\n",
    "            if populacao[i][j] == 0:\n",
    "                sus += 1\n",
    "            elif populacao[i][j] == 1:\n",
    "                inf += 1\n",
    "                a = True \n",
    "            else:\n",
    "                rec += 1\n",
    "    suscetiveis = np.append(suscetiveis,sus)\n",
    "    infectados = np.append(infectados,inf)\n",
    "    recuperados = np.append(recuperados,rec)\n",
    "\n",
    "plt.figure(figsize=(8,8))\n",
    "plt.stackplot(np.linspace(1,len(suscetiveis),len(suscetiveis),endpoint=True),[infectados,suscetiveis,recuperados],labels=[\"Infectados\",\"Suscetíveis\",\"Recuperados\"],colors=[\"tomato\",\"teal\",\"dimgrey\"])\n",
    "plt.legend()\n",
    "plt.show()"
   ]
  },
  {
   "cell_type": "markdown",
   "metadata": {},
   "source": [
    "SIMULA A EVOLUÇÃO DE UMA DOENÇA E MOSTRA TAL EVOLUÇÃO NUM GRÁFICO QUADRICULADO"
   ]
  },
  {
   "cell_type": "code",
   "execution_count": 25,
   "metadata": {},
   "outputs": [
    {
     "data": {
      "image/png": "[encoded data removed]",
      "text/plain": [
       "<matplotlib.figure.Figure at 0x18c8fb35518>"
      ]
     },
     "metadata": {},
     "output_type": "display_data"
    },
    {
     "data": {
      "image/png": "[encoded data removed]",
      "text/plain": [
       "<matplotlib.figure.Figure at 0x18c901e8748>"
      ]
     },
     "metadata": {},
     "output_type": "display_data"
    }
   ],
   "source": [
    "#Sistema\n",
    "N = 15\n",
    "populacao = np.zeros((N,N))\n",
    "p_c = 0.5\n",
    "p_r = 0.2\n",
    "\n",
    "suscetiveis = np.array([N*N-1])\n",
    "infectados = np.array([1])\n",
    "recuperados = np.array([0])\n",
    "\n",
    "populacao = cond_inic(populacao)\n",
    "\n",
    "a = True\n",
    "\n",
    "#Simulação\n",
    "while a:\n",
    "    #Passo temporal no qual verificamos novas contaminações\n",
    "    populacao = evolui_contaminacao(populacao,p_c)\n",
    "    \n",
    "    sus = 0\n",
    "    inf = 0\n",
    "    rec = 0\n",
    "    for i in range(N):\n",
    "        for j in range(N):\n",
    "            if populacao[i][j] == 0:\n",
    "                sus += 1\n",
    "            elif populacao[i][j] == 1:\n",
    "                inf += 1 \n",
    "            else:\n",
    "                rec += 1\n",
    "                \n",
    "    plota_quad(populacao)\n",
    "    time.sleep(0.3)\n",
    "    display.clear_output(wait=True)\n",
    "                \n",
    "    #suscetiveis = np.append(suscetiveis,sus)\n",
    "    #infectados = np.append(infectados,inf)\n",
    "    #recuperados = np.append(recuperados,rec)\n",
    "    \n",
    "    #Passo temporal no qual verificamos recuperações\n",
    "    populacao = evolui_recuperacao(populacao,p_r)\n",
    "    \n",
    "    plota_quad(populacao)\n",
    "    time.sleep(0.3)\n",
    "    display.clear_output(wait=True)\n",
    "    \n",
    "    #Condição de parada, se ainda houver alguém doente, a simulação continua\n",
    "    a = False\n",
    "    sus = 0\n",
    "    inf = 0\n",
    "    rec = 0\n",
    "    for i in range(N):\n",
    "        for j in range(N):\n",
    "            if populacao[i][j] == 0:\n",
    "                sus += 1\n",
    "            elif populacao[i][j] == 1:\n",
    "                inf += 1\n",
    "                a = True \n",
    "            else:\n",
    "                rec += 1\n",
    "    suscetiveis = np.append(suscetiveis,sus)\n",
    "    infectados = np.append(infectados,inf)\n",
    "    recuperados = np.append(recuperados,rec)\n",
    "\n",
    "plota_quad(populacao)\n",
    "time.sleep(0.3)\n",
    "    \n",
    "plt.figure(figsize=(8,8))\n",
    "plt.stackplot(np.linspace(1,len(suscetiveis),len(suscetiveis),endpoint=True),[infectados,suscetiveis,recuperados],labels=[\"Infectados\",\"Suscetíveis\",\"Recuperados\"],colors=[\"tomato\",\"teal\",\"dimgrey\"])\n",
    "plt.legend()\n",
    "plt.show()"
   ]
  },
  {
   "cell_type": "markdown",
   "metadata": {},
   "source": [
    "CALCULA A MÉDIA DE VÁRIAS SIMULAÇÕES [N = 100, p_c = 1, p_r = 0.2]"
   ]
  },
  {
   "cell_type": "code",
   "execution_count": 26,
   "metadata": {
    "collapsed": true
   },
   "outputs": [],
   "source": [
    "#Sistema\n",
    "N = 100\n",
    "p_c = 1\n",
    "p_r = 0.2\n",
    "simulacoes = 10\n",
    "\n",
    "total_sus = np.array([])\n",
    "total_inf = np.array([])\n",
    "total_rec = np.array([])\n",
    "\n",
    "for k in range(simulacoes):\n",
    "    suscetiveis = np.array([N*N-1])\n",
    "    infectados = np.array([1])\n",
    "    recuperados = np.array([0])\n",
    "    \n",
    "    populacao = np.zeros((N,N))\n",
    "    populacao = cond_inic(populacao)\n",
    "    a = True\n",
    "\n",
    "    #Simulação\n",
    "    while a:\n",
    "        #Passo temporal no qual verificamos novas contaminações\n",
    "        populacao = evolui_contaminacao(populacao,p_c)\n",
    "\n",
    "        sus = 0\n",
    "        inf = 0\n",
    "        rec = 0\n",
    "        for i in range(N):\n",
    "            for j in range(N):\n",
    "                if populacao[i][j] == 0:\n",
    "                    sus += 1\n",
    "                elif populacao[i][j] == 1:\n",
    "                    inf += 1 \n",
    "                else:\n",
    "                    rec += 1\n",
    "\n",
    "        #suscetiveis = np.append(suscetiveis,sus)\n",
    "        #infectados = np.append(infectados,inf)\n",
    "        #recuperados = np.append(recuperados,rec)\n",
    "\n",
    "        #Passo temporal no qual verificamos recuperações\n",
    "        populacao = evolui_recuperacao(populacao,p_r)\n",
    "\n",
    "        #Condição de parada, se ainda houver alguém doente, a simulação continua\n",
    "        a = False\n",
    "        sus = 0\n",
    "        inf = 0\n",
    "        rec = 0\n",
    "        for i in range(N):\n",
    "            for j in range(N):\n",
    "                if populacao[i][j] == 0:\n",
    "                    sus += 1\n",
    "                elif populacao[i][j] == 1:\n",
    "                    inf += 1\n",
    "                    a = True \n",
    "                else:\n",
    "                    rec += 1\n",
    "        suscetiveis = np.append(suscetiveis,sus)\n",
    "        infectados = np.append(infectados,inf)\n",
    "        recuperados = np.append(recuperados,rec)\n",
    "        \n",
    "    total_sus = np.append(total_sus, suscetiveis)\n",
    "    total_sus = np.append(total_sus, -len(suscetiveis))\n",
    "    total_inf = np.append(total_inf, infectados)\n",
    "    total_inf = np.append(total_inf, -len(suscetiveis))\n",
    "    total_rec = np.append(total_rec, recuperados)\n",
    "    total_rec = np.append(total_rec, -len(suscetiveis))\n",
    "    \n",
    "# Organiza os dados coletados\n",
    "lenn = int(abs(min(total_sus)))\n",
    "\n",
    "aux_sus = np.empty((simulacoes,lenn))\n",
    "aux_inf = np.empty((simulacoes,lenn))\n",
    "aux_rec = np.empty((simulacoes,lenn))\n",
    "\n",
    "count = -1\n",
    "for i in range(simulacoes):\n",
    "    count += 1\n",
    "    for j in range(lenn):\n",
    "        if total_inf[count] < 0 and total_inf[count] != -lenn:\n",
    "            count -= 1\n",
    "            aux_sus[i][j] = total_sus[count]\n",
    "            aux_inf[i][j] = total_inf[count]\n",
    "            aux_rec[i][j] = total_rec[count]\n",
    "            \n",
    "        else:\n",
    "            aux_sus[i][j] = total_sus[count]\n",
    "            aux_inf[i][j] = total_inf[count]\n",
    "            aux_rec[i][j] = total_rec[count]\n",
    "        count += 1\n",
    "\n",
    "# Calcula a média\n",
    "media_sus = np.zeros(lenn)\n",
    "media_inf = np.zeros(lenn)\n",
    "media_rec = np.zeros(lenn)\n",
    "\n",
    "for i in range(lenn):\n",
    "    media_s = 0\n",
    "    media_i = 0\n",
    "    media_r = 0\n",
    "    \n",
    "    for j in range(simulacoes):\n",
    "        media_s += aux_sus[j][i]\n",
    "        media_i += aux_inf[j][i]\n",
    "        media_r += aux_rec[j][i]\n",
    "    media_s = media_s/simulacoes\n",
    "    media_i = media_i/simulacoes\n",
    "    media_r = media_r/simulacoes\n",
    "    \n",
    "    media_sus[i] = media_s\n",
    "    media_inf[i] = media_i\n",
    "    media_rec[i] = media_r"
   ]
  },
  {
   "cell_type": "markdown",
   "metadata": {},
   "source": [
    "PLOTA O GRÁFICO DA MÉDIA DAS SIMULAÇÕES [N = 100, p_c = 1, p_r = 0.2]"
   ]
  },
  {
   "cell_type": "code",
   "execution_count": 27,
   "metadata": {
    "jupyter": {
     "outputs_hidden": true
    }
   },
   "outputs": [
    {
     "data": {
      "image/png": "[encoded data removed]",
      "text/plain": [
       "<matplotlib.figure.Figure at 0x18c9136b320>"
      ]
     },
     "metadata": {},
     "output_type": "display_data"
    }
   ],
   "source": [
    "plt.figure(figsize=(8,8))\n",
    "plt.stackplot(np.linspace(1,len(media_sus),len(media_sus),endpoint=True),[media_inf,media_sus,media_rec],labels=[\"Infectados\",\"Suscetíveis\",\"Recuperados\"],colors=[\"tomato\",\"teal\",\"dimgrey\"])\n",
    "plt.legend()\n",
    "plt.show()"
   ]
  },
  {
   "cell_type": "markdown",
   "metadata": {},
   "source": [
    "CALCULA A MÉDIA DE VÁRIAS SIMULAÇÕES [N = 100, p_c = 0.5, p_r = 0.2]"
   ]
  },
  {
   "cell_type": "code",
   "execution_count": 29,
   "metadata": {
    "collapsed": true
   },
   "outputs": [],
   "source": [
    "#Sistema\n",
    "N = 100\n",
    "p_c = 0.5\n",
    "p_r = 0.2\n",
    "simulacoes = 10\n",
    "\n",
    "total_sus = np.array([])\n",
    "total_inf = np.array([])\n",
    "total_rec = np.array([])\n",
    "\n",
    "for k in range(simulacoes):\n",
    "    suscetiveis = np.array([N*N-1])\n",
    "    infectados = np.array([1])\n",
    "    recuperados = np.array([0])\n",
    "    \n",
    "    populacao = np.zeros((N,N))\n",
    "    populacao = cond_inic(populacao)\n",
    "    a = True\n",
    "\n",
    "    #Simulação\n",
    "    while a:\n",
    "        #Passo temporal no qual verificamos novas contaminações\n",
    "        populacao = evolui_contaminacao(populacao,p_c)\n",
    "\n",
    "        sus = 0\n",
    "        inf = 0\n",
    "        rec = 0\n",
    "        for i in range(N):\n",
    "            for j in range(N):\n",
    "                if populacao[i][j] == 0:\n",
    "                    sus += 1\n",
    "                elif populacao[i][j] == 1:\n",
    "                    inf += 1 \n",
    "                else:\n",
    "                    rec += 1\n",
    "\n",
    "        #suscetiveis = np.append(suscetiveis,sus)\n",
    "        #infectados = np.append(infectados,inf)\n",
    "        #recuperados = np.append(recuperados,rec)\n",
    "\n",
    "        #Passo temporal no qual verificamos recuperações\n",
    "        populacao = evolui_recuperacao(populacao,p_r)\n",
    "\n",
    "        #Condição de parada, se ainda houver alguém doente, a simulação continua\n",
    "        a = False\n",
    "        sus = 0\n",
    "        inf = 0\n",
    "        rec = 0\n",
    "        for i in range(N):\n",
    "            for j in range(N):\n",
    "                if populacao[i][j] == 0:\n",
    "                    sus += 1\n",
    "                elif populacao[i][j] == 1:\n",
    "                    inf += 1\n",
    "                    a = True \n",
    "                else:\n",
    "                    rec += 1\n",
    "        suscetiveis = np.append(suscetiveis,sus)\n",
    "        infectados = np.append(infectados,inf)\n",
    "        recuperados = np.append(recuperados,rec)\n",
    "        \n",
    "    total_sus = np.append(total_sus, suscetiveis)\n",
    "    total_sus = np.append(total_sus, -len(suscetiveis))\n",
    "    total_inf = np.append(total_inf, infectados)\n",
    "    total_inf = np.append(total_inf, -len(suscetiveis))\n",
    "    total_rec = np.append(total_rec, recuperados)\n",
    "    total_rec = np.append(total_rec, -len(suscetiveis))\n",
    "    \n",
    "# Organiza os dados coletados\n",
    "lenn = int(abs(min(total_sus)))\n",
    "\n",
    "aux_sus = np.empty((simulacoes,lenn))\n",
    "aux_inf = np.empty((simulacoes,lenn))\n",
    "aux_rec = np.empty((simulacoes,lenn))\n",
    "\n",
    "count = -1\n",
    "for i in range(simulacoes):\n",
    "    count += 1\n",
    "    for j in range(lenn):\n",
    "        if total_inf[count] < 0 and total_inf[count] != -lenn:\n",
    "            count -= 1\n",
    "            aux_sus[i][j] = total_sus[count]\n",
    "            aux_inf[i][j] = total_inf[count]\n",
    "            aux_rec[i][j] = total_rec[count]\n",
    "            \n",
    "        else:\n",
    "            aux_sus[i][j] = total_sus[count]\n",
    "            aux_inf[i][j] = total_inf[count]\n",
    "            aux_rec[i][j] = total_rec[count]\n",
    "        count += 1\n",
    "\n",
    "# Calcula a média\n",
    "media_sus = np.zeros(lenn)\n",
    "media_inf = np.zeros(lenn)\n",
    "media_rec = np.zeros(lenn)\n",
    "\n",
    "for i in range(lenn):\n",
    "    media_s = 0\n",
    "    media_i = 0\n",
    "    media_r = 0\n",
    "    \n",
    "    for j in range(simulacoes):\n",
    "        media_s += aux_sus[j][i]\n",
    "        media_i += aux_inf[j][i]\n",
    "        media_r += aux_rec[j][i]\n",
    "    media_s = media_s/simulacoes\n",
    "    media_i = media_i/simulacoes\n",
    "    media_r = media_r/simulacoes\n",
    "    \n",
    "    media_sus[i] = media_s\n",
    "    media_inf[i] = media_i\n",
    "    media_rec[i] = media_r"
   ]
  },
  {
   "cell_type": "markdown",
   "metadata": {},
   "source": [
    "PLOTA O GRÁFICO DA MÉDIA DAS SIMULAÇÕES [N = 100, p_c = 0.5, p_r = 0.2]"
   ]
  },
  {
   "cell_type": "code",
   "execution_count": 30,
   "metadata": {},
   "outputs": [
    {
     "data": {
      "image/png": "[encoded data removed]",
      "text/plain": [
       "<matplotlib.figure.Figure at 0x18c8fb914e0>"
      ]
     },
     "metadata": {},
     "output_type": "display_data"
    }
   ],
   "source": [
    "plt.figure(figsize=(8,8))\n",
    "plt.stackplot(np.linspace(1,len(media_sus),len(media_sus),endpoint=True),[media_inf,media_sus,media_rec],labels=[\"Infectados\",\"Suscetíveis\",\"Recuperados\"],colors=[\"tomato\",\"teal\",\"dimgrey\"])\n",
    "plt.legend()\n",
    "plt.show()"
   ]
  },
  {
   "cell_type": "markdown",
   "metadata": {},
   "source": [
    "CALCULA A MÉDIA DE VÁRIAS SIMULAÇÕES [N = 100, p_c = 1, p_r = 0.1]"
   ]
  },
  {
   "cell_type": "code",
   "execution_count": 32,
   "metadata": {
    "collapsed": true
   },
   "outputs": [],
   "source": [
    "#Sistema\n",
    "N = 100\n",
    "p_c = 1\n",
    "p_r = 0.1\n",
    "simulacoes = 10\n",
    "\n",
    "total_sus = np.array([])\n",
    "total_inf = np.array([])\n",
    "total_rec = np.array([])\n",
    "\n",
    "for k in range(simulacoes):\n",
    "    suscetiveis = np.array([N*N-1])\n",
    "    infectados = np.array([1])\n",
    "    recuperados = np.array([0])\n",
    "    \n",
    "    populacao = np.zeros((N,N))\n",
    "    populacao = cond_inic(populacao)\n",
    "    a = True\n",
    "\n",
    "    #Simulação\n",
    "    while a:\n",
    "        #Passo temporal no qual verificamos novas contaminações\n",
    "        populacao = evolui_contaminacao(populacao,p_c)\n",
    "\n",
    "        sus = 0\n",
    "        inf = 0\n",
    "        rec = 0\n",
    "        for i in range(N):\n",
    "            for j in range(N):\n",
    "                if populacao[i][j] == 0:\n",
    "                    sus += 1\n",
    "                elif populacao[i][j] == 1:\n",
    "                    inf += 1 \n",
    "                else:\n",
    "                    rec += 1\n",
    "\n",
    "        #suscetiveis = np.append(suscetiveis,sus)\n",
    "        #infectados = np.append(infectados,inf)\n",
    "        #recuperados = np.append(recuperados,rec)\n",
    "\n",
    "        #Passo temporal no qual verificamos recuperações\n",
    "        populacao = evolui_recuperacao(populacao,p_r)\n",
    "\n",
    "        #Condição de parada, se ainda houver alguém doente, a simulação continua\n",
    "        a = False\n",
    "        sus = 0\n",
    "        inf = 0\n",
    "        rec = 0\n",
    "        for i in range(N):\n",
    "            for j in range(N):\n",
    "                if populacao[i][j] == 0:\n",
    "                    sus += 1\n",
    "                elif populacao[i][j] == 1:\n",
    "                    inf += 1\n",
    "                    a = True \n",
    "                else:\n",
    "                    rec += 1\n",
    "        suscetiveis = np.append(suscetiveis,sus)\n",
    "        infectados = np.append(infectados,inf)\n",
    "        recuperados = np.append(recuperados,rec)\n",
    "        \n",
    "    total_sus = np.append(total_sus, suscetiveis)\n",
    "    total_sus = np.append(total_sus, -len(suscetiveis))\n",
    "    total_inf = np.append(total_inf, infectados)\n",
    "    total_inf = np.append(total_inf, -len(suscetiveis))\n",
    "    total_rec = np.append(total_rec, recuperados)\n",
    "    total_rec = np.append(total_rec, -len(suscetiveis))\n",
    "    \n",
    "# Organiza os dados coletados\n",
    "lenn = int(abs(min(total_sus)))\n",
    "\n",
    "aux_sus = np.empty((simulacoes,lenn))\n",
    "aux_inf = np.empty((simulacoes,lenn))\n",
    "aux_rec = np.empty((simulacoes,lenn))\n",
    "\n",
    "count = -1\n",
    "for i in range(simulacoes):\n",
    "    count += 1\n",
    "    for j in range(lenn):\n",
    "        if total_inf[count] < 0 and total_inf[count] != -lenn:\n",
    "            count -= 1\n",
    "            aux_sus[i][j] = total_sus[count]\n",
    "            aux_inf[i][j] = total_inf[count]\n",
    "            aux_rec[i][j] = total_rec[count]\n",
    "            \n",
    "        else:\n",
    "            aux_sus[i][j] = total_sus[count]\n",
    "            aux_inf[i][j] = total_inf[count]\n",
    "            aux_rec[i][j] = total_rec[count]\n",
    "        count += 1\n",
    "\n",
    "# Calcula a média\n",
    "media_sus = np.zeros(lenn)\n",
    "media_inf = np.zeros(lenn)\n",
    "media_rec = np.zeros(lenn)\n",
    "\n",
    "for i in range(lenn):\n",
    "    media_s = 0\n",
    "    media_i = 0\n",
    "    media_r = 0\n",
    "    \n",
    "    for j in range(simulacoes):\n",
    "        media_s += aux_sus[j][i]\n",
    "        media_i += aux_inf[j][i]\n",
    "        media_r += aux_rec[j][i]\n",
    "    media_s = media_s/simulacoes\n",
    "    media_i = media_i/simulacoes\n",
    "    media_r = media_r/simulacoes\n",
    "    \n",
    "    media_sus[i] = media_s\n",
    "    media_inf[i] = media_i\n",
    "    media_rec[i] = media_r"
   ]
  },
  {
   "cell_type": "markdown",
   "metadata": {},
   "source": [
    "PLOTA O GRÁFICO DA MÉDIA DAS SIMULAÇÕES [N = 100, p_c = 1, p_r = 0.1]"
   ]
  },
  {
   "cell_type": "code",
   "execution_count": 33,
   "metadata": {},
   "outputs": [
    {
     "data": {
      "image/png": "[encoded data removed]",
      "text/plain": [
       "<matplotlib.figure.Figure at 0x18c8fb6fdd8>"
      ]
     },
     "metadata": {},
     "output_type": "display_data"
    }
   ],
   "source": [
    "plt.figure(figsize=(8,8))\n",
    "plt.stackplot(np.linspace(1,len(media_sus),len(media_sus),endpoint=True),[media_inf,media_sus,media_rec],labels=[\"Infectados\",\"Suscetíveis\",\"Recuperados\"],colors=[\"tomato\",\"teal\",\"dimgrey\"])\n",
    "plt.legend()\n",
    "plt.show()"
   ]
  },
  {
   "cell_type": "markdown",
   "metadata": {},
   "source": [
    "Dos resultados mostrados pelas simulações mostradas, podemos associar o valor de probabilidade de contaminação p_c com o número total de pessoas infectadas, isto é, quanto maior o valor de p_c mais pessoas se contaminarão até o fim da simulação. Além disso, podemos associar o valor da probabilidade de recuperação p_r, o formato da curva dos infectados, que pode ser mais larga e achatada, para maiores valores de p_r, ou menos achatada, com menores valores de p_r. Percebemos que para doenças com menor probabilidade de recuperação, isto é, doenças que fazem os infectados a transmitirem por mais tempo, podem fazer grande parte da população adoecer simultaneamente, o que é um grande perigo para o sistema de saúde, como extensivamente discutido nos anos de 2020 e 2021 por muitos cientistas."
   ]
  }
 ],
 "metadata": {
  "kernelspec": {
   "display_name": "Python 3",
   "language": "python",
   "name": "python3"
  },
  "language_info": {
   "codemirror_mode": {
    "name": "ipython",
    "version": 3
   },
   "file_extension": ".py",
   "mimetype": "text/x-python",
   "name": "python",
   "nbconvert_exporter": "python",
   "pygments_lexer": "ipython3",
   "version": "3.6.3"
  }
 },
 "nbformat": 4,
 "nbformat_minor": 4
}
