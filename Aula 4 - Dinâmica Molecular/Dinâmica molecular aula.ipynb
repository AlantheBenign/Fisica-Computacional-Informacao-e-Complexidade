{
 "cells": [
  {
   "cell_type": "code",
   "execution_count": 1,
   "metadata": {},
   "outputs": [],
   "source": [
    "from numba import jit\n",
    "import numpy as np\n",
    "import matplotlib.pyplot as plt"
   ]
  },
  {
   "cell_type": "code",
   "execution_count": 2,
   "metadata": {},
   "outputs": [],
   "source": [
    "L=10        # lado do quadrado inicial\n",
    "N=L*L        # numero de partículas\n",
    "\n",
    "rho=1.0       # densidade\n",
    "boxsize= np.sqrt(N/rho)    # dimensao linear da caixa\n",
    "\n",
    "temper=1.0     # Temperatura\n",
    "\n",
    "rcut=2.5      # Raio de corte Lennard-Jones\n",
    "rcut=rcut**2\n",
    "\n",
    "rv=100        # Raio para lista de verlet\n",
    "rv=rv**2"
   ]
  },
  {
   "cell_type": "code",
   "execution_count": 81,
   "metadata": {},
   "outputs": [],
   "source": [
    "def conf_ini(N,boxsize,temper):\n",
    "\n",
    "    L=int(np.sqrt(N))     # Define a dimensao linear da rede quadrada  (Atencao!!! A raiz quadrada de N é suposta inteira)  \n",
    "\n",
    "    x=np.zeros(N)  \n",
    "    y=np.zeros(N)  \n",
    "\n",
    "    vx=np.zeros(N)  \n",
    "    vy=np.zeros(N)  \n",
    "\n",
    "    cont=0  \n",
    "    for i in range(L):  \n",
    "        for j in range(L):  \n",
    "\n",
    "            # distribui as partículas numa rede quadrada centrada  \n",
    "            x[cont]=(i+0.5)-L/2  \n",
    "            y[cont]=(j+0.5)-L/2  \n",
    "\n",
    "            # Escolhe a velocidade uniformemente num circulo unitario  \n",
    "            phi=np.random.uniform(0,2*np.pi)    \n",
    "            vx[cont]=np.cos(phi)  \n",
    "            vy[cont]=np.sin(phi)  \n",
    "\n",
    "            cont += 1  \n",
    "\n",
    "    # normaliza as posições para dentro da caixa  \n",
    "    x=x/L*boxsize  \n",
    "    y=y/L*boxsize  \n",
    "\n",
    "    # normaliza as velocidades de acordo com o teorema da equiparticao da energia  \n",
    "    prov=np.sqrt((2.0-2.0/N)*temper)  \n",
    "\n",
    "    vx=vx*prov  \n",
    "    vy=vy*prov  \n",
    "\n",
    "    # Zera o momento total das partículas  \n",
    "    prov=np.sum(vx)  \n",
    "    vx=vx-prov/N  \n",
    "    prov=np.sum(vy)  \n",
    "    vy=vy-prov/N  \n",
    "\n",
    "\n",
    "    return x,y,vx,vy"
   ]
  },
  {
   "cell_type": "code",
   "execution_count": null,
   "metadata": {},
   "outputs": [],
   "source": [
    "x,y,vx,vy = conf_ini(N,boxsize,temper)  \n",
    "\n",
    "print(np.sum(vx))  \n",
    "\n",
    "for i in range(N):  \n",
    "    print(i,x[i],y[i])"
   ]
  },
  {
   "cell_type": "code",
   "execution_count": 83,
   "metadata": {},
   "outputs": [],
   "source": [
    "def verlet_list(x,y,rv,boxsize):     # Cria uma lista de Verlet para definir os vizinhos  \n",
    "\n",
    "    N = len(x)     # numero de particulas  \n",
    "\n",
    "    nviz = np.zeros(N,np.int64)    # declara os arrays  \n",
    "    viz = np.empty(0,np.int64)         \n",
    "\n",
    "    cont=0  # contador do numero de vizinhos (indice do array viz)  \n",
    "\n",
    "    for i in range(N):         # loop sobre todas as partículas  \n",
    "        \n",
    "        for j in range(i+1,N): # loop sobre todos os possiveis vizinhos  \n",
    "\n",
    "            xij = x[i]-x[j]     # Distancia entre as partículas  \n",
    "            yij = y[i]-y[j]  \n",
    "\n",
    "            xij = xij - boxsize*np.rint(xij/boxsize)  # aplica condicoes de contorno periódicas  \n",
    "            yij = yij - boxsize*np.rint(yij/boxsize)  \n",
    "\n",
    "            r2 = xij*xij + yij*yij  \n",
    "\n",
    "\n",
    "        if r2 < rv:  \n",
    "            cont += 1  \n",
    "            nviz[i] = cont  \n",
    "            viz=np.append(viz,[j])  \n",
    "\n",
    "    return nviz,viz"
   ]
  },
  {
   "cell_type": "code",
   "execution_count": 87,
   "metadata": {},
   "outputs": [
    {
     "name": "stdout",
     "output_type": "stream",
     "text": [
      "Wall time: 22 ms\n"
     ]
    }
   ],
   "source": [
    "%time _ = verlet_list(x,y,rv,boxsize) "
   ]
  },
  {
   "cell_type": "code",
   "execution_count": 54,
   "metadata": {},
   "outputs": [
    {
     "data": {
      "text/plain": [
       "<matplotlib.collections.PathCollection at 0x2a1911e2c88>"
      ]
     },
     "execution_count": 54,
     "metadata": {},
     "output_type": "execute_result"
    },
    {
     "data": {
      "image/png": "[encoded data removed]",
      "text/plain": [
       "<Figure size 432x288 with 1 Axes>"
      ]
     },
     "metadata": {
      "needs_background": "light"
     },
     "output_type": "display_data"
    }
   ],
   "source": [
    "plt.scatter(x,y)"
   ]
  },
  {
   "cell_type": "code",
   "execution_count": 7,
   "metadata": {},
   "outputs": [
    {
     "name": "stdout",
     "output_type": "stream",
     "text": [
      "[0 0 0 1 0 0 0 0 0 0 0 2 3 0 4 5]\n",
      " \n",
      "[15 15 15 15 15]\n"
     ]
    }
   ],
   "source": [
    "nviz,viz = verlet_list(x,y,rv,boxsize)\n",
    "\n",
    "print(nviz)\n",
    "print(' ')\n",
    "print(viz)"
   ]
  },
  {
   "cell_type": "code",
   "execution_count": 8,
   "metadata": {},
   "outputs": [
    {
     "name": "stdout",
     "output_type": "stream",
     "text": [
      "4 15\n"
     ]
    }
   ],
   "source": [
    "i=15\n",
    "for j in range(nviz[i-1],nviz[i]):  # realiza um loop sobre os vizinhos da particula i\n",
    "    print(j,viz[j])"
   ]
  },
  {
   "cell_type": "code",
   "execution_count": null,
   "metadata": {},
   "outputs": [],
   "source": []
  }
 ],
 "metadata": {
  "kernelspec": {
   "display_name": "Python 3",
   "language": "python",
   "name": "python3"
  },
  "language_info": {
   "codemirror_mode": {
    "name": "ipython",
    "version": 3
   },
   "file_extension": ".py",
   "mimetype": "text/x-python",
   "name": "python",
   "nbconvert_exporter": "python",
   "pygments_lexer": "ipython3",
   "version": "3.7.4"
  }
 },
 "nbformat": 4,
 "nbformat_minor": 4
}
