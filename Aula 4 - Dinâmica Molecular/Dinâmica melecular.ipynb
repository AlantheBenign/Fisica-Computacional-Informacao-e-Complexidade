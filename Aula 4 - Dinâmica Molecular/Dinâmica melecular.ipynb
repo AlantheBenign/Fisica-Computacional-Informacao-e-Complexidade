{
 "cells": [
  {
   "cell_type": "code",
   "execution_count": 47,
   "metadata": {},
   "outputs": [],
   "source": [
    "from numba import njit\n",
    "import numpy as np\n",
    "import matplotlib.pyplot as plt"
   ]
  },
  {
   "cell_type": "code",
   "execution_count": 155,
   "metadata": {},
   "outputs": [],
   "source": [
    "L = 25\n",
    "N = L*L     # particle number\n",
    "\n",
    "rho = 1.0   # particle density\n",
    "box_size = np.sqrt(N/rho)  # linear dimension of the box\n",
    "temperature = 1.0\n",
    "\n",
    "r_c = 100\n",
    "r_c = r_c*r_c"
   ]
  },
  {
   "cell_type": "code",
   "execution_count": 157,
   "metadata": {},
   "outputs": [],
   "source": [
    "@njit\n",
    "def create_initial(N, box_side,temperature = 1.0):\n",
    "    L = int(np.sqrt(N))\n",
    "    \n",
    "    x = np.zeros(N)\n",
    "    y = np.zeros(N)\n",
    "    \n",
    "    v_x = np.zeros(N)\n",
    "    v_y = np.zeros(N)\n",
    "    \n",
    "    count = 0\n",
    "    for i in range(L):\n",
    "        for j in range(L):\n",
    "            \n",
    "            # distribui as partículas numa rede quadrada centrada  \n",
    "            x[count] = (i+0.5) - box_size/2\n",
    "            y[count] = (j+0.5) - box_size/2\n",
    "            \n",
    "            # Escolhe a velocidade uniformemente num circulo unitario \n",
    "            phi = np.random.uniform(0,2*np.pi)\n",
    "            v_x[count] = np.cos(phi)\n",
    "            v_y[count] = np.sin(phi)\n",
    "            count += 1\n",
    "   \n",
    "    # normaliza as posições para dentro da caixa  \n",
    "    x = x/L*box_size\n",
    "    y = y/L*box_size\n",
    "    \n",
    "    # normaliza as velocidades de acordo com o teorema da equiparticao da energia  \n",
    "    prov=np.sqrt((2.0-2.0/N)*temperature)  \n",
    "\n",
    "    v_x=v_x*prov  \n",
    "    v_y=v_y*prov  \n",
    "\n",
    "    # Zera o momento total das partículas  \n",
    "    prov=np.sum(v_x)  \n",
    "    v_x=v_x-prov/N  \n",
    "    prov=np.sum(v_y)  \n",
    "    v_y=v_y-prov/N  \n",
    "\n",
    "   \n",
    "    return x, y, v_x, v_y"
   ]
  },
  {
   "cell_type": "code",
   "execution_count": 146,
   "metadata": {},
   "outputs": [],
   "source": [
    "@njit\n",
    "def verlet_list(x,y,r_c, box_size):\n",
    "    N = len(x)\n",
    "    \n",
    "    n_viz = np.zeros(N, dtype=np.int64)    # número de vizinhos por partícula\n",
    "    viz = np.full(N*(N-1), -1, dtype=np.int64)      # os n_viz[i] vizinhos listados\n",
    "    \n",
    "    count = 0\n",
    "    for i in range(N):             # loop sobre todas as partículas\n",
    "        for j in range(N):         # loop sobre todos os possíveis vizinhos\n",
    "            x_ij = x[i] - x[j]\n",
    "            y_ij = y[i] - y[j]\n",
    "            # corrige a distância entre partículas segundo a condição de contorno (condições de contorno periódicas)\n",
    "            x_ij = x_ij - box_size*np.rint(x_ij/box_size)\n",
    "            y_ij = y_ij - box_size*np.rint(y_ij/box_size)\n",
    "            \n",
    "            r2_ij = x_ij*x_ij + y_ij*y_ij   # quadrado da distância entre as partículas\n",
    "    \n",
    "            if r2_ij <= r_c and r2_ij != 0: \n",
    "                viz[count] = j\n",
    "                count += 1\n",
    "                n_viz[i] += 1\n",
    "    \n",
    "    viz_2 = np.empty(count, dtype=np.int64)\n",
    "    for i in range(count):\n",
    "        viz_2[i] = viz[i]\n",
    "    \n",
    "    return n_viz, viz_2"
   ]
  },
  {
   "cell_type": "code",
   "execution_count": 191,
   "metadata": {},
   "outputs": [
    {
     "name": "stdout",
     "output_type": "stream",
     "text": [
      "Wall time: 4 ms\n"
     ]
    }
   ],
   "source": [
    "%time _ = verlet_list(x,y,r_c,box_size) "
   ]
  },
  {
   "cell_type": "code",
   "execution_count": 194,
   "metadata": {},
   "outputs": [
    {
     "data": {
      "image/png": "[encoded data removed]",
      "text/plain": [
       "<Figure size 432x432 with 1 Axes>"
      ]
     },
     "metadata": {
      "needs_background": "light"
     },
     "output_type": "display_data"
    },
    {
     "data": {
      "image/png": "[encoded data removed]",
      "text/plain": [
       "<Figure size 432x432 with 1 Axes>"
      ]
     },
     "metadata": {
      "needs_background": "light"
     },
     "output_type": "display_data"
    }
   ],
   "source": [
    "x,y,vx,vy = create_initial(N,box_size,temperature)\n",
    "#n_viz, viz = vernet_list(x,y,1)\n",
    "plt.figure(figsize=(6,6))\n",
    "plt.xlim(-L/2 - 0.05,L/2 + 0.05)\n",
    "plt.ylim(-L/2 - 0.05,L/2 + 0.05)\n",
    "plt.scatter(x,y)\n",
    "plt.show()\n",
    "plt.figure(figsize=(6,6))\n",
    "plt.scatter(vx,vy)\n",
    "plt.show()\n",
    "#print(n_viz)\n",
    "#print(viz)"
   ]
  },
  {
   "cell_type": "code",
   "execution_count": 6,
   "metadata": {},
   "outputs": [],
   "source": [
    "@njit\n",
    "def simulate(x, y, v_x, v_y, r_c = 1.0):\n",
    "    N = len(x)\n",
    "    \n",
    "    \n",
    "    \n",
    "    count = 0\n",
    "    for i in range(N):\n",
    "        for j in range(i+1,N):    \n",
    "            r_xij = x[i] - x[j]\n",
    "            r_yij = y[i] - y[j]\n",
    "            r_ij = np.sqrt(r_xij*r_xij + r_yij*r_yij)\n",
    "            # corrige a distância entre partículas segundo a condição de contorno (repetição da amostra)\n",
    "            r_ij = r_ij - (L * round(int(r_ij/L)))\n",
    "            if r_ij <= r_c:\n",
    "                count += 1\n",
    "                n_viz[i] += 1\n",
    "                viz[count] = j \n",
    "    \n",
    "    for i in range(N):\n",
    "        for j in range(n_viz[i-1],n_viz[i]-1):\n",
    "            r_xij = x[i] - x[j]\n",
    "            r_yij = y[i] - y[j]\n",
    "            r_ij = np.sqrt(r_xij*r_xij + r_yij*r_yij)\n",
    "            # corrige a distância entre partículas segundo a condição de contorno (repetição da amostra)\n",
    "            r_ij = r_ij - (L * round(int(r_ij/L)))"
   ]
  },
  {
   "cell_type": "code",
   "execution_count": null,
   "metadata": {},
   "outputs": [],
   "source": []
  }
 ],
 "metadata": {
  "kernelspec": {
   "display_name": "Python 3",
   "language": "python",
   "name": "python3"
  },
  "language_info": {
   "codemirror_mode": {
    "name": "ipython",
    "version": 3
   },
   "file_extension": ".py",
   "mimetype": "text/x-python",
   "name": "python",
   "nbconvert_exporter": "python",
   "pygments_lexer": "ipython3",
   "version": "3.7.4"
  }
 },
 "nbformat": 4,
 "nbformat_minor": 4
}
