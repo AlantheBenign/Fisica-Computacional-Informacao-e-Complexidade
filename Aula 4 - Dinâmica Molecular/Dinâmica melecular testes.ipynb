{
 "cells": [
  {
   "cell_type": "code",
   "execution_count": 1,
   "metadata": {},
   "outputs": [],
   "source": [
    "from numba import njit\n",
    "import numpy as np\n",
    "import matplotlib.pyplot as plt\n",
    "from IPython import display\n",
    "import time"
   ]
  },
  {
   "cell_type": "code",
   "execution_count": 2,
   "metadata": {},
   "outputs": [
    {
     "name": "stdout",
     "output_type": "stream",
     "text": [
      "9.486832980505138\n"
     ]
    }
   ],
   "source": [
    "n = 5\n",
    "N = n*n                    # número de partículas\n",
    "\n",
    "rho = 0.1                 # densidade de partículas\n",
    "box_size = np.sqrt(N/rho)  # dimensão linear da caixa\n",
    "temperature = 1.05\n",
    "\n",
    "r_c = 2.5                  # raio de corte da interação de Lennard-Jones\n",
    "r2_c = r_c*r_c\n",
    "\n",
    "r_v = 2.5                   # raio da lista de Verlet\n",
    "r2_v = r_v*r_v   \n",
    "print(box_size)"
   ]
  },
  {
   "cell_type": "code",
   "execution_count": 3,
   "metadata": {},
   "outputs": [],
   "source": [
    "@njit\n",
    "def distance(x1, y1, x2, y2, box_size):\n",
    "    x_ij = x1 - x2\n",
    "    y_ij = y1 - y2\n",
    "            \n",
    "    # corrige a distância entre partículas segundo a condição de contorno (condições de contorno periódicas)\n",
    "    x_ij = x_ij - box_size*np.rint(x_ij/box_size)\n",
    "    y_ij = y_ij - box_size*np.rint(y_ij/box_size)\n",
    "    dist = x_ij*x_ij + y_ij*y_ij\n",
    "    dist = np.sqrt(dist)\n",
    "    return x_ij, y_ij, dist"
   ]
  },
  {
   "cell_type": "code",
   "execution_count": 4,
   "metadata": {},
   "outputs": [],
   "source": [
    "@njit\n",
    "def create_initial(N, box_size,temperature = 1.0):\n",
    "    n = int(np.sqrt(N))\n",
    "    \n",
    "    x = np.zeros(N)\n",
    "    y = np.zeros(N)\n",
    "    \n",
    "    v_x = np.zeros(N)\n",
    "    v_y = np.zeros(N)\n",
    "    \n",
    "    d = box_size/n\n",
    "    \n",
    "    count = 0\n",
    "    for i in range(n):\n",
    "        for j in range(n):\n",
    "            \n",
    "            # distribui as partículas numa rede quadrada centrada  \n",
    "            x[count] = ( d * i ) + d/2 - ( box_size/2 )\n",
    "            y[count] = ( d * j ) + d/2 - ( box_size/2 ) \n",
    "            \n",
    "            # escolhe a velocidade uniformemente num circulo unitário \n",
    "            phi = np.random.uniform(0,2*np.pi)\n",
    "            v_x[count] = np.cos(phi)\n",
    "            v_y[count] = np.sin(phi)\n",
    "            count += 1\n",
    "    \n",
    "    # normaliza as velocidades de acordo com o teorema da equipartição da energia  \n",
    "    prov=np.sqrt((2.0-2.0/N)*temperature)  \n",
    "\n",
    "    v_x=v_x*prov  \n",
    "    v_y=v_y*prov  \n",
    "\n",
    "    # zera o momento total das partículas  \n",
    "    prov=np.sum(v_x)  \n",
    "    v_x=v_x-prov/N  \n",
    "    prov=np.sum(v_y)  \n",
    "    v_y=v_y-prov/N  \n",
    "\n",
    "   \n",
    "    return x, y, v_x, v_y"
   ]
  },
  {
   "cell_type": "code",
   "execution_count": 5,
   "metadata": {},
   "outputs": [],
   "source": [
    "@njit\n",
    "def verlet_list(x, y, r2_v, box_size):\n",
    "    N = len(x)\n",
    "    \n",
    "    n_viz = np.zeros(N, dtype=np.int64)             # número de vizinhos por partícula\n",
    "    viz = np.full(N*(N-1), -1, dtype=np.int64)      # os n_viz[i] vizinhos listados\n",
    "    \n",
    "    count = 0\n",
    "    for i in range(N):                              # loop sobre todas as partículas\n",
    "        for j in range(N):                          # loop sobre todos os possíveis vizinhos\n",
    "            x_ij = x[i] - x[j]\n",
    "            y_ij = y[i] - y[j]\n",
    "            \n",
    "            # corrige a distância entre partículas segundo a condição de contorno (condições de contorno periódicas\n",
    "            x_ij = x_ij - box_size*np.rint(x_ij/box_size)\n",
    "            y_ij = y_ij - box_size*np.rint(y_ij/box_size)\n",
    "            \n",
    "            r2_ij = x_ij*x_ij + y_ij*y_ij   # quadrado da distância entre as partículas\n",
    "    \n",
    "            if r2_ij <= r2_v and r2_ij != 0: \n",
    "                viz[count] = j\n",
    "                count += 1\n",
    "                n_viz[i] += 1\n",
    "    \n",
    "    viz_2 = np.empty(count, dtype=np.int64)\n",
    "    for i in range(count):\n",
    "        viz_2[i] = viz[i]\n",
    "    \n",
    "    return n_viz, viz_2"
   ]
  },
  {
   "cell_type": "code",
   "execution_count": null,
   "metadata": {},
   "outputs": [],
   "source": [
    "x,y,vx,vy = create_initial(N,box_size,temperature)\n",
    "plt.figure(figsize=(6,6))\n",
    "plt.xlim(-box_size/2,box_size/2)\n",
    "plt.ylim(-box_size/2,box_size/2)\n",
    "plt.scatter(x,y)\n",
    "plt.show()\n",
    "plt.figure(figsize=(6,6))\n",
    "plt.scatter(vx,vy)\n",
    "plt.show()"
   ]
  },
  {
   "cell_type": "code",
   "execution_count": null,
   "metadata": {},
   "outputs": [],
   "source": [
    "%time _ = verlet_list(x,y,r2_c,box_size) "
   ]
  },
  {
   "cell_type": "code",
   "execution_count": 32,
   "metadata": {},
   "outputs": [
    {
     "name": "stdout",
     "output_type": "stream",
     "text": [
      "[20 20 20 20 20 20 20 20 20 20 20 20 20 20 20 20 20 20 20 20 20 20 20 20\n",
      " 20]\n",
      "[ 1  2  3  4  5  6  7  8  9 10 11 14 15 16 19 20 21 22 23 24  0  2  3  4\n",
      "  5  6  7  8  9 10 11 12 15 16 17 20 21 22 23 24  0  1  3  4  5  6  7  8\n",
      "  9 11 12 13 16 17 18 20 21 22 23 24  0  1  2  4  5  6  7  8  9 12 13 14\n",
      " 17 18 19 20 21 22 23 24  0  1  2  3  5  6  7  8  9 10 13 14 15 18 19 20\n",
      " 21 22 23 24  0  1  2  3  4  6  7  8  9 10 11 12 13 14 15 16 19 20 21 24\n",
      "  0  1  2  3  4  5  7  8  9 10 11 12 13 14 15 16 17 20 21 22  0  1  2  3\n",
      "  4  5  6  8  9 10 11 12 13 14 16 17 18 21 22 23  0  1  2  3  4  5  6  7\n",
      "  9 10 11 12 13 14 17 18 19 22 23 24  0  1  2  3  4  5  6  7  8 10 11 12\n",
      " 13 14 15 18 19 20 23 24  0  1  4  5  6  7  8  9 11 12 13 14 15 16 17 18\n",
      " 19 20 21 24  0  1  2  5  6  7  8  9 10 12 13 14 15 16 17 18 19 20 21 22\n",
      "  1  2  3  5  6  7  8  9 10 11 13 14 15 16 17 18 19 21 22 23  2  3  4  5\n",
      "  6  7  8  9 10 11 12 14 15 16 17 18 19 22 23 24  0  3  4  5  6  7  8  9\n",
      " 10 11 12 13 15 16 17 18 19 20 23 24  0  1  4  5  6  9 10 11 12 13 14 16\n",
      " 17 18 19 20 21 22 23 24  0  1  2  5  6  7 10 11 12 13 14 15 17 18 19 20\n",
      " 21 22 23 24  1  2  3  6  7  8 10 11 12 13 14 15 16 18 19 20 21 22 23 24\n",
      "  2  3  4  7  8  9 10 11 12 13 14 15 16 17 19 20 21 22 23 24  0  3  4  5\n",
      "  8  9 10 11 12 13 14 15 16 17 18 20 21 22 23 24  0  1  2  3  4  5  6  9\n",
      " 10 11 14 15 16 17 18 19 21 22 23 24  0  1  2  3  4  5  6  7 10 11 12 15\n",
      " 16 17 18 19 20 22 23 24  0  1  2  3  4  6  7  8 11 12 13 15 16 17 18 19\n",
      " 20 21 23 24  0  1  2  3  4  7  8  9 12 13 14 15 16 17 18 19 20 21 22 24\n",
      "  0  1  2  3  4  5  8  9 10 13 14 15 16 17 18 19 20 21 22 23]\n"
     ]
    }
   ],
   "source": [
    "n_viz, viz = verlet_list(x,y,r2_v,box_size)\n",
    "print(n_viz)\n",
    "print(viz)"
   ]
  },
  {
   "cell_type": "code",
   "execution_count": 27,
   "metadata": {},
   "outputs": [],
   "source": [
    "@njit\n",
    "def lennard_jones(dist,r_c = 2.5):\n",
    "    epsilon = 0.1\n",
    "    sigma = 1\n",
    "    if dist <= r_c:\n",
    "        res = (48*epsilon/(sigma*sigma)) * (np.power(sigma/dist,14) - 1/2 * np.power(sigma/dist,8))\n",
    "    else:\n",
    "        res = 0\n",
    "    return res"
   ]
  },
  {
   "cell_type": "code",
   "execution_count": 41,
   "metadata": {},
   "outputs": [],
   "source": [
    "@njit\n",
    "def calculate_force(x, y, i, j, box_size, r_c = 2.5):\n",
    "    # calcula a força que j faz em i\n",
    "    N = len(x)\n",
    "    \n",
    "    force = np.zeros(2, dtype = np.float64)\n",
    "    \n",
    "    x_ij, y_ij, dist = distance(x[i],y[i],x[j],y[j],box_size)\n",
    "    #print(dist)\n",
    "    force_mod = lennard_jones(dist,r_c)\n",
    "    \n",
    "    force[0] = force_mod * x_ij  \n",
    "    force[1] = force_mod * y_ij\n",
    "    \n",
    "    return force"
   ]
  },
  {
   "cell_type": "code",
   "execution_count": 31,
   "metadata": {},
   "outputs": [],
   "source": [
    "@njit\n",
    "def calculate_energia(x,y,vx,vy, r_c = 2.5):\n",
    "    N = len(x)\n",
    "    \n",
    "    energia = 0\n",
    "    epsilon = 1\n",
    "    sigma = 1\n",
    "    \n",
    "    for i in range(N):\n",
    "        energia += 1/2 * (vx[i]*vx[i] + vy[i]*vy[i]) \n",
    "        for j in range(i+1,N):\n",
    "            x_ij, y_ij, dist = distance(x[i],y[i],x[j],y[j],box_size)\n",
    "            if dist <= r_c:\n",
    "                energia += 4*epsilon*((np.power(sigma/dist,12) - np.power(sigma/dist,6)) - (np.power(sigma/r_c,12) - np.power(sigma/r_c,6)))\n",
    "            else:\n",
    "                energia += 0\n",
    "                \n",
    "    return energia"
   ]
  },
  {
   "cell_type": "code",
   "execution_count": 32,
   "metadata": {},
   "outputs": [],
   "source": [
    "@njit\n",
    "def simulate(x, y, vx, vy, n_viz, viz, forces, box_sixe, passo, dt = 0.001, r2_v = 2.5*2.5):\n",
    "    N = len(x)\n",
    "\n",
    "    energia = 0\n",
    "    \n",
    "    # calcula a lista de vizinhos (condição: à cada dez passos (tem que mudar segundo a teoria))\n",
    "    if passo%1 == 0:\n",
    "        n_viz, viz = verlet_list(x, y, r2_v, box_size)\n",
    "        forces = np.zeros((len(viz),2))\n",
    "\n",
    "    # calcula a força entre as partículas\n",
    "    for i in range(N):\n",
    "        for j in range(int(sum(n_viz[:i])),int(sum(n_viz[:i+1]))):\n",
    "            forces[i] += calculate_force(x,y,i,viz[j],box_size)\n",
    "            \n",
    "    # evolui as posições e velocidades\n",
    "\n",
    "    # evolui os valores das velocidades\n",
    "    for i in range(N):\n",
    "        vx[i] = vx[i] + 1/2 * forces[i][0]*dt\n",
    "        vy[i] = vy[i] + 1/2 * forces[i][1]*dt\n",
    "    # evolui os valores das posições\n",
    "    for i in range(N):\n",
    "        x[i] = x[i] + vx[i]*dt\n",
    "        y[i] = y[i] + vy[i]*dt\n",
    "\n",
    "    # calcula a força entre as partículas\n",
    "    for i in range(N):\n",
    "        for j in range(int(sum(n_viz[:i])),int(sum(n_viz[:i+1]))):\n",
    "            forces[i] += calculate_force(x,y,i,viz[j],box_size)\n",
    "\n",
    "    # evolui os valores das velocidades\n",
    "    for i in range(N):\n",
    "        vx[i] = vx[i] + 1/2 * forces[i][0]*dt\n",
    "        vy[i] = vy[i] + 1/2 * forces[i][1]*dt\n",
    "        \n",
    "    energia += calculate_energia(x,y,vx,vy)\n",
    "    \n",
    "    return x, y, vx, vy, n_viz, viz, forces, energia"
   ]
  },
  {
   "cell_type": "code",
   "execution_count": 40,
   "metadata": {},
   "outputs": [
    {
     "data": {
      "image/png": "[encoded data removed]",
      "text/plain": [
       "<Figure size 360x360 with 1 Axes>"
      ]
     },
     "metadata": {
      "needs_background": "light"
     },
     "output_type": "display_data"
    },
    {
     "data": {
      "image/png": "[encoded data removed]",
      "text/plain": [
       "<Figure size 360x360 with 1 Axes>"
      ]
     },
     "metadata": {
      "needs_background": "light"
     },
     "output_type": "display_data"
    }
   ],
   "source": [
    "passos = 10000\n",
    "dt = 0.005\n",
    "\n",
    "#x,y,vx,vy = create_initial(N,box_size,temperature)\n",
    "x = [1.5,0.0]\n",
    "y = [0.0, 0.0]\n",
    "vx = [0.01,0.0]\n",
    "vy= [0.0,0.0]\n",
    "energias = np.zeros(passos)\n",
    "\n",
    "energias[0] = calculate_energia(x,y,vx,vy)\n",
    "\n",
    "n_viz, viz = verlet_list(x, y, r2_v, box_size)\n",
    "forces = np.zeros((len(viz),2))\n",
    "\n",
    "for i in range(N):\n",
    "    for j in range(int(sum(n_viz[:i])),int(sum(n_viz[:i+1]))):\n",
    "        forces[i] += calculate_force(x,y,i,viz[j],box_size)\n",
    "\n",
    "for i in range(1,passos):\n",
    "    x, y, vx, vy, n_viz, viz, forces, energia = simulate(x,y,vx, vy,n_viz, viz, forces, box_size, i, dt)\n",
    "    energias[i] = energia\n",
    "    #print(x,y)\n",
    "    if i%100 == 0:\n",
    "        plt.figure(figsize=(5,5))\n",
    "        plt.xlim(-box_size/2,box_size/2)\n",
    "        plt.ylim(-box_size/2,box_size/2)\n",
    "        plt.scatter(x,y)\n",
    "        plt.show()\n",
    "        display.clear_output(wait=True)\n",
    "\n",
    "plt.figure(figsize=(5,5))\n",
    "plt.xlim(-box_size/2,box_size/2)\n",
    "plt.ylim(-box_size/2,box_size/2)\n",
    "plt.scatter(x,y)\n",
    "plt.show()        \n",
    "plt.figure(figsize=(5,5))\n",
    "plt.plot(energias)\n",
    "plt.show()"
   ]
  },
  {
   "cell_type": "code",
   "execution_count": 11,
   "metadata": {},
   "outputs": [
    {
     "data": {
      "image/png": "[encoded data removed]",
      "text/plain": [
       "<Figure size 360x360 with 1 Axes>"
      ]
     },
     "metadata": {
      "needs_background": "light"
     },
     "output_type": "display_data"
    },
    {
     "data": {
      "image/png": "[encoded data removed]",
      "text/plain": [
       "<Figure size 360x360 with 1 Axes>"
      ]
     },
     "metadata": {
      "needs_background": "light"
     },
     "output_type": "display_data"
    }
   ],
   "source": [
    "x,y,vx,vy = create_initial(N,box_size,temperature)\n",
    "plt.figure(figsize=(5,5))\n",
    "plt.xlim(-box_size/2,box_size/2)\n",
    "plt.ylim(-box_size/2,box_size/2)\n",
    "plt.scatter(x,y)\n",
    "plt.show()\n",
    "plt.figure(figsize=(5,5))\n",
    "plt.scatter(vx,vy)\n",
    "plt.show()"
   ]
  },
  {
   "cell_type": "code",
   "execution_count": 102,
   "metadata": {},
   "outputs": [
    {
     "ename": "NameError",
     "evalue": "name 'envolver' is not defined",
     "output_type": "error",
     "traceback": [
      "\u001b[1;31m---------------------------------------------------------------------------\u001b[0m",
      "\u001b[1;31mNameError\u001b[0m                                 Traceback (most recent call last)",
      "\u001b[1;32m<ipython-input-102-d4710816afbf>\u001b[0m in \u001b[0;36m<module>\u001b[1;34m\u001b[0m\n\u001b[0;32m      2\u001b[0m     \u001b[1;32mif\u001b[0m \u001b[0mi\u001b[0m\u001b[1;33m%\u001b[0m\u001b[1;36m10\u001b[0m \u001b[1;33m==\u001b[0m \u001b[1;36m0\u001b[0m\u001b[1;33m:\u001b[0m\u001b[1;33m\u001b[0m\u001b[1;33m\u001b[0m\u001b[0m\n\u001b[0;32m      3\u001b[0m         \u001b[0mn_viz\u001b[0m\u001b[1;33m,\u001b[0m \u001b[0mviz\u001b[0m \u001b[1;33m=\u001b[0m \u001b[0mverlet_list\u001b[0m\u001b[1;33m(\u001b[0m\u001b[0mx\u001b[0m\u001b[1;33m,\u001b[0m \u001b[0my\u001b[0m\u001b[1;33m,\u001b[0m \u001b[0mr2_v\u001b[0m\u001b[1;33m,\u001b[0m \u001b[0mbox_size\u001b[0m\u001b[1;33m)\u001b[0m\u001b[1;33m\u001b[0m\u001b[1;33m\u001b[0m\u001b[0m\n\u001b[1;32m----> 4\u001b[1;33m     \u001b[0mx\u001b[0m\u001b[1;33m,\u001b[0m\u001b[0my\u001b[0m\u001b[1;33m,\u001b[0m\u001b[0mvx\u001b[0m\u001b[1;33m,\u001b[0m\u001b[0mvy\u001b[0m \u001b[1;33m=\u001b[0m \u001b[0menvolver\u001b[0m\u001b[1;33m(\u001b[0m\u001b[0mx\u001b[0m\u001b[1;33m,\u001b[0m \u001b[0my\u001b[0m\u001b[1;33m,\u001b[0m \u001b[0mvx\u001b[0m\u001b[1;33m,\u001b[0m \u001b[0mvy\u001b[0m\u001b[1;33m,\u001b[0m \u001b[0mn_viz\u001b[0m\u001b[1;33m,\u001b[0m \u001b[0mviz\u001b[0m\u001b[1;33m,\u001b[0m \u001b[0mbox_size\u001b[0m\u001b[1;33m)\u001b[0m\u001b[1;33m\u001b[0m\u001b[1;33m\u001b[0m\u001b[0m\n\u001b[0m\u001b[0;32m      5\u001b[0m     \u001b[1;32mif\u001b[0m \u001b[0mi\u001b[0m\u001b[1;33m%\u001b[0m\u001b[1;36m100\u001b[0m \u001b[1;33m==\u001b[0m \u001b[1;36m0\u001b[0m\u001b[1;33m:\u001b[0m\u001b[1;33m\u001b[0m\u001b[1;33m\u001b[0m\u001b[0m\n\u001b[0;32m      6\u001b[0m         \u001b[0mplt\u001b[0m\u001b[1;33m.\u001b[0m\u001b[0mfigure\u001b[0m\u001b[1;33m(\u001b[0m\u001b[0mfigsize\u001b[0m\u001b[1;33m=\u001b[0m\u001b[1;33m(\u001b[0m\u001b[1;36m5\u001b[0m\u001b[1;33m,\u001b[0m\u001b[1;36m5\u001b[0m\u001b[1;33m)\u001b[0m\u001b[1;33m)\u001b[0m\u001b[1;33m\u001b[0m\u001b[1;33m\u001b[0m\u001b[0m\n",
      "\u001b[1;31mNameError\u001b[0m: name 'envolver' is not defined"
     ]
    }
   ],
   "source": [
    "for i in range(10000):\n",
    "    if i%10 == 0:\n",
    "        n_viz, viz = verlet_list(x, y, r2_v, box_size)\n",
    "    x,y,vx,vy = envolver(x, y, vx, vy, n_viz, viz, box_size)\n",
    "    if i%100 == 0:\n",
    "        plt.figure(figsize=(5,5))\n",
    "        plt.xlim(-box_size/2-1,box_size/2+1)\n",
    "        plt.ylim(-box_size/2-1,box_size/2+1)\n",
    "        plt.scatter(x,y)\n",
    "        plt.show()\n",
    "        plt.figure(figsize=(5,5))\n",
    "        plt.scatter(vx,vy)\n",
    "        plt.show()\n",
    "        display.clear_output(wait=True)"
   ]
  },
  {
   "cell_type": "code",
   "execution_count": 28,
   "metadata": {},
   "outputs": [],
   "source": [
    "from IPython import display\n",
    "import time"
   ]
  },
  {
   "cell_type": "code",
   "execution_count": null,
   "metadata": {},
   "outputs": [],
   "source": []
  }
 ],
 "metadata": {
  "kernelspec": {
   "display_name": "Python 3",
   "language": "python",
   "name": "python3"
  },
  "language_info": {
   "codemirror_mode": {
    "name": "ipython",
    "version": 3
   },
   "file_extension": ".py",
   "mimetype": "text/x-python",
   "name": "python",
   "nbconvert_exporter": "python",
   "pygments_lexer": "ipython3",
   "version": "3.7.4"
  }
 },
 "nbformat": 4,
 "nbformat_minor": 4
}
