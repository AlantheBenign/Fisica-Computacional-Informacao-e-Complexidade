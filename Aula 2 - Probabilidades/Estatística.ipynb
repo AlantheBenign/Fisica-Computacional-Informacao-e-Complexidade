{
  "metadata": {
    "language_info": {
      "codemirror_mode": {
        "name": "python",
        "version": 3
      },
      "file_extension": ".py",
      "mimetype": "text/x-python",
      "name": "python",
      "nbconvert_exporter": "python",
      "pygments_lexer": "ipython3",
      "version": "3.8"
    },
    "kernelspec": {
      "name": "python",
      "display_name": "Python (Pyodide)",
      "language": "python"
    }
  },
  "nbformat_minor": 4,
  "nbformat": 4,
  "cells": [
    {
      "cell_type": "code",
      "source": "import numpy as np\nimport matplotlib.pyplot as plt\nfrom statsmodels.graphics import tsaplots",
      "metadata": {
        "trusted": true
      },
      "execution_count": 3,
      "outputs": []
    },
    {
      "cell_type": "code",
      "source": "def plota_histograma(numeros):\n    plt.figure(figsize=(5,3.5))\n    plt.hist(numeros)\n    plt.show()    ",
      "metadata": {
        "trusted": true
      },
      "execution_count": 6,
      "outputs": []
    },
    {
      "cell_type": "code",
      "source": "def esperanca(numeros):\n    soma = 0\n    for i in numeros:\n        soma += i\n    media = soma/len(numeros)\n    return media",
      "metadata": {
        "trusted": true
      },
      "execution_count": 7,
      "outputs": []
    },
    {
      "cell_type": "code",
      "source": "def desvio_padrao(numeros):\n    media = esperanca(numeros)\n    soma = 0\n    for i in numeros:\n        soma += (i - media)*(i - media)\n    res = soma / len(numeros)\n    return res",
      "metadata": {
        "trusted": true
      },
      "execution_count": 8,
      "outputs": []
    },
    {
      "cell_type": "code",
      "source": "",
      "metadata": {},
      "execution_count": null,
      "outputs": []
    }
  ]
}