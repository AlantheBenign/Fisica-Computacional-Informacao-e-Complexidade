{
 "cells": [
  {
   "cell_type": "markdown",
   "metadata": {},
   "source": [
    "PROBABILIDADES"
   ]
  },
  {
   "cell_type": "markdown",
   "metadata": {},
   "source": [
    "Podemos definir probabilidades de modo \"frequentista\" como:\n",
    "\n",
    "P(evento específico) = lim N -> inf (número de vezes que o evento específico ocorre / número de eventos que ocorreram).\n",
    "\n",
    "Onde P(evento) >= 0 e Somatório (todos os eventos possíveis) P(evento) = 1.\n",
    "\n",
    "Definimos então:\n",
    "\n",
    "X := variável aleatória (https://www.bookofproofs.org/branches/why-is-a-random-variable-neither-random-nor-variable/)\n",
    "\n",
    "A_X := alfabeto, espaço amostral\n",
    "    A_X = {a_1, a_2, ..., a_n}\n",
    "\n",
    "Ensemble := tripla composta por (X, A_X, P(X))"
   ]
  },
  {
   "cell_type": "markdown",
   "metadata": {},
   "source": [
    "\n",
    "\n",
    "Podemos definir probabilidade como a crença subjetiva relacionada a um dado evento (visão bayesiana)\n",
    "\n",
    "Então:\n",
    "\n",
    "B(X) := crença subjetiva na proposição X;\n",
    "    \n",
    "X_barra := negação de X\n",
    "    \n",
    "B(X|Y) := crença condicional, crença em X dado que Y ocorreu.\n",
    "    \n",
    "Assim:\n",
    "\n",
    "1. Graus de crença podem ser ordenados:\n",
    "\n",
    "    B(X) > B(Y), B(Y) > B(Z)  =>  B(X) > B(Z)\n",
    "    \n",
    "    Então é possível mapear B(X) nos números reais.\n",
    "    \n",
    "    \n",
    "2. B(X) e B(X_barra) estão relacionados por uma função:\n",
    "\n",
    "    B(X) = f[B(X_Barra)]\n",
    "    \n",
    "    \n",
    "3. O grau de crença na conjunção de proposições é relacionado à crença condicional e à crença na proposição:\n",
    "\n",
    "    B(X,Y) = g[B(X|Y), B(Y)]"
   ]
  },
  {
   "cell_type": "markdown",
   "metadata": {},
   "source": [
    "O ensemble possui todas as informações de um sistema, dado que ele possui todo o espaço amostral e todas as probabilidades de todos os possíveis eventos.\n",
    "\n",
    "Então, a probabilidade de um subconjunto é:\n",
    "\n",
    "Se T = {a_1, a_2, ..., a_n} é um subconjunto do espaço amostral A_X, sua probabilidade é de:\n",
    "\n",
    "   P(T) = P(X contido em T) == Somatório (todos os eventos contidos em T) P(X = a_i)\n",
    "   \n",
    "Também existe o ensemble conjunto XY, cujos resultados são pares ordenados x,y\n",
    "\n",
    "   X contido em A_X = {a_1, a_2, ..., a_x}\n",
    "   Y contido em A_Y = {b_1, b_2, ..., b_y}\n",
    "   \n",
    "Onde existe a probabilidade conjunta, que é a probabilidade de um evento x e um y ocorrerem: P(x,y)\n",
    "\n",
    "Probabilidade marginal := probabilidade de um evento X ocorrer, porém também existem os eventos em Y que devem ser levados em consideração (exemplo: lançar uma moeda e um dado, a probabilidade de cair cara é a soma das probabilidades de todos os eventos possíveis que a moeda sai cara, neste exemplo: (cara,1), (cara,2), ..., (cara,6))\n",
    "\n",
    "P(x) = Somatório (todos os eventos y) P(x,y)\n",
    "\n",
    "P(y) = Somatório (todos os eventos x) P(x,y)\n",
    "\n",
    "Probabilidade condicional := probabilidade de um evento x = a_i ocorrer dado que y = b_j ocorreu:\n",
    "\n",
    "P(x = a_i | y = b_j) = P(x = a_i, y = b_j) / P(y = b_j) com P(y = b_j) diferente de 0."
   ]
  },
  {
   "cell_type": "markdown",
   "metadata": {},
   "source": [
    "Seja H o conjunto de suposições nas quais as probabilidades são baseadas, podemos definir a regra do produto:\n",
    "\n",
    "P(x,y|H) = P(x|y,H) P(y|H)\n",
    "\n",
    "Regra da soma:\n",
    "\n",
    "P(x|H) = Somatório (eventos y) P(x,y|H) = Somatório (eventos y) P(x|y,H) P (y|H)\n",
    "\n"
   ]
  },
  {
   "cell_type": "markdown",
   "metadata": {},
   "source": [
    "Independência:\n",
    "\n",
    "x e y são independentes se, e somente se:\n",
    "\n",
    "P(x,y) = P(x) P(y)"
   ]
  },
  {
   "cell_type": "markdown",
   "metadata": {},
   "source": [
    "Teorema de Bayes:\n",
    "    \n",
    "    P(y|x,H) = P(x|y,H) P(y,H) / P(x|H) = P(x|y,H) P(y,H) / Somatório (eventos y') P(x|y',H) P(y'|H)"
   ]
  },
  {
   "cell_type": "code",
   "execution_count": null,
   "metadata": {},
   "outputs": [],
   "source": []
  }
 ],
 "metadata": {
  "kernelspec": {
   "display_name": "Python 3",
   "language": "python",
   "name": "python3"
  },
  "language_info": {
   "codemirror_mode": {
    "name": "ipython",
    "version": 3
   },
   "file_extension": ".py",
   "mimetype": "text/x-python",
   "name": "python",
   "nbconvert_exporter": "python",
   "pygments_lexer": "ipython3",
   "version": "3.6.3"
  }
 },
 "nbformat": 4,
 "nbformat_minor": 2
}
