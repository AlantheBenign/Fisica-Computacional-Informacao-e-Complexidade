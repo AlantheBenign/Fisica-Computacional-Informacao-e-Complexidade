{
 "cells": [
  {
   "cell_type": "code",
   "execution_count": 1,
   "metadata": {},
   "outputs": [],
   "source": [
    "import numba as nb\n",
    "import numpy as np\n",
    "import matplotlib.pyplot as plt"
   ]
  },
  {
   "cell_type": "code",
   "execution_count": 2,
   "metadata": {},
   "outputs": [],
   "source": [
    "L = 10\n",
    "N = L*L"
   ]
  },
  {
   "cell_type": "code",
   "execution_count": 3,
   "metadata": {},
   "outputs": [],
   "source": [
    "@nb.njit\n",
    "def calcula_media(vetor):\n",
    "    media = sum(vetor)/len(vetor)\n",
    "    return media"
   ]
  },
  {
   "cell_type": "code",
   "execution_count": 4,
   "metadata": {},
   "outputs": [],
   "source": [
    "@nb.njit\n",
    "def calcula_media_quadrado(vetor):\n",
    "    media = 0\n",
    "    for item in vetor:\n",
    "        media += item*item\n",
    "    media = media/len(vetor)\n",
    "    return media"
   ]
  },
  {
   "cell_type": "code",
   "execution_count": 5,
   "metadata": {},
   "outputs": [],
   "source": [
    "@nb.njit\n",
    "def cria_inicial(L):\n",
    "    N = L*L\n",
    "    x = np.zeros(N, dtype=np.int32)\n",
    "    y = np.zeros(N, dtype=np.int32)\n",
    "    spins = np.zeros(N, dtype=np.int8)\n",
    "    \n",
    "    count = 0\n",
    "    for j in range(L):                  # 12 13 14 15\n",
    "        for i in range(L):              # 8  9  10 11\n",
    "            x[count] = i                # 4  5  6  7\n",
    "            y[count] = j                # 0  1  2  3\n",
    "            a = np.random.randint(2)\n",
    "            if a:\n",
    "                spins[count] = 1\n",
    "            else:\n",
    "                spins[count] = -1\n",
    "            count += 1\n",
    "            \n",
    "    return x, y, spins"
   ]
  },
  {
   "cell_type": "code",
   "execution_count": 6,
   "metadata": {},
   "outputs": [],
   "source": [
    "@nb.njit\n",
    "def cria_inicial_1(L):\n",
    "    N = L*L\n",
    "    x = np.zeros(N, dtype=np.int32)\n",
    "    y = np.zeros(N, dtype=np.int32)\n",
    "    spins = np.zeros(N, dtype=np.int8)\n",
    "    \n",
    "    count = 0\n",
    "    for j in range(L):                  # 12 13 14 15\n",
    "        for i in range(L):              # 8  9  10 11\n",
    "            x[count] = i                # 4  5  6  7\n",
    "            y[count] = j                # 0  1  2  3\n",
    "            spins[count] = 1\n",
    "            count += 1\n",
    "            \n",
    "    return x, y, spins"
   ]
  },
  {
   "cell_type": "code",
   "execution_count": 7,
   "metadata": {},
   "outputs": [],
   "source": [
    "@nb.njit\n",
    "def cria_inicial_xadrez(L):\n",
    "    N = L*L\n",
    "    x = np.zeros(N, dtype=np.int32)\n",
    "    y = np.zeros(N, dtype=np.int32)\n",
    "    spins = np.zeros(N, dtype=np.int8)\n",
    "    \n",
    "    count = 0\n",
    "    for j in range(L):                  # 12 13 14 15\n",
    "        for i in range(L):              # 8  9  10 11\n",
    "            x[count] = i                # 4  5  6  7\n",
    "            y[count] = j                # 0  1  2  3\n",
    "            if (i+j)%2:\n",
    "                spins[count] = 1\n",
    "            else:\n",
    "                spins[count] = -1\n",
    "            count += 1\n",
    "            \n",
    "    return x, y, spins"
   ]
  },
  {
   "cell_type": "code",
   "execution_count": 8,
   "metadata": {},
   "outputs": [],
   "source": [
    "@nb.njit\n",
    "def vizinhos(N):\n",
    "    L = int(np.sqrt(N))\n",
    "    viz = np.zeros((N,4), dtype=np.int32)\n",
    "    \n",
    "    for i in range(N):\n",
    "        if (i+1)%L == 0:\n",
    "            viz[i][0] = i+1-L\n",
    "        else:\n",
    "            viz[i][0] = i+1\n",
    "            \n",
    "        viz[i][1] = (i+L)%N\n",
    "        \n",
    "        if i%L == 0:\n",
    "            viz[i][2] = i-1+L\n",
    "        else:\n",
    "            viz[i][2] = i-1\n",
    "        \n",
    "        viz[i][3] = (i-L)%N\n",
    "    \n",
    "    return viz"
   ]
  },
  {
   "cell_type": "code",
   "execution_count": 9,
   "metadata": {},
   "outputs": [],
   "source": [
    "@nb.njit\n",
    "def energia(spins, viz):\n",
    "    N = len(spins)\n",
    "    E = 0\n",
    "    \n",
    "    for i in range(N):\n",
    "        h = spins[int(viz[i,0])] + spins[int(viz[i,1])]\n",
    "        E -= spins[i] * h\n",
    "    \n",
    "    mag = np.sum(spins)\n",
    "    return E, mag"
   ]
  },
  {
   "cell_type": "code",
   "execution_count": 10,
   "metadata": {},
   "outputs": [],
   "source": [
    "@nb.njit\n",
    "def expos(beta):\n",
    "    ex = np.zeros(5,dtype=np.float32)\n",
    "    ex[0]=np.exp(8.0*beta)\n",
    "    ex[1]=np.exp(4.0*beta)\n",
    "    ex[2]=1.0\n",
    "    ex[3]=np.exp(-4.0*beta)\n",
    "    ex[4]=np.exp(-8.0*beta)\n",
    "    return ex"
   ]
  },
  {
   "cell_type": "code",
   "execution_count": 11,
   "metadata": {},
   "outputs": [],
   "source": [
    "@nb.njit\n",
    "def monte_carlo_passo(spins, viz, exp, ener, mag):\n",
    "    N = len(spins)\n",
    "    \n",
    "    for i in range(N):\n",
    "        h = spins[viz[i,0]]+spins[viz[i,1]]+spins[viz[i,2]]+spins[viz[i,3]] # soma dos vizinhos\n",
    "        dif = int(spins[i]*h*0.5+2)\n",
    "        \n",
    "        if np.random.random() < exp[dif]:\n",
    "            spins[i] = -spins[i]\n",
    "            ener += dif*4 - 8\n",
    "            mag += 2*spins[i]\n",
    "            \n",
    "    return spins, ener, mag"
   ]
  },
  {
   "cell_type": "code",
   "execution_count": 12,
   "metadata": {},
   "outputs": [
    {
     "name": "stdout",
     "output_type": "stream",
     "text": [
      "-8 4\n"
     ]
    },
    {
     "data": {
      "image/png": "[encoded data removed]",
      "text/plain": [
       "<Figure size 360x360 with 1 Axes>"
      ]
     },
     "metadata": {
      "needs_background": "light"
     },
     "output_type": "display_data"
    }
   ],
   "source": [
    "L = 2\n",
    "N = L*L\n",
    "temperatura = 1\n",
    "beta = 1/temperatura\n",
    "\n",
    "x, y, spins = cria_inicial_1(L)\n",
    "viz = vizinhos(N)\n",
    "ener, mag = energia(spins,viz)\n",
    "print(ener, mag)\n",
    "exp = expos(beta)\n",
    "plt.figure(figsize=(5,5))\n",
    "for i in range(N):\n",
    "    if spins[i] == 1:\n",
    "        plt.scatter(x[i],y[i],color='b')\n",
    "    else: \n",
    "        plt.scatter(x[i],y[i],color='r')\n",
    "plt.show()"
   ]
  },
  {
   "cell_type": "code",
   "execution_count": 13,
   "metadata": {},
   "outputs": [
    {
     "name": "stdout",
     "output_type": "stream",
     "text": [
      "-8 4\n"
     ]
    },
    {
     "data": {
      "image/png": "[encoded data removed]",
      "text/plain": [
       "<Figure size 360x360 with 1 Axes>"
      ]
     },
     "metadata": {
      "needs_background": "light"
     },
     "output_type": "display_data"
    }
   ],
   "source": [
    "spins, ener, mag = monte_carlo_passo(spins, viz, exp, ener, mag)\n",
    "print(ener, mag)\n",
    "plt.figure(figsize=(5,5))\n",
    "for i in range(N):\n",
    "    if spins[i] == 1:\n",
    "        plt.scatter(x[i],y[i],color='b')\n",
    "    else: \n",
    "        plt.scatter(x[i],y[i],color='r')\n",
    "plt.show()"
   ]
  },
  {
   "cell_type": "code",
   "execution_count": 24,
   "metadata": {},
   "outputs": [
    {
     "name": "stdout",
     "output_type": "stream",
     "text": [
      "0.7308370340555685 0.006173220570480293\n",
      "0.4051989440208419 0.017414478693769674\n"
     ]
    }
   ],
   "source": [
    "L = 24\n",
    "N = L*L\n",
    "\n",
    "temperatura = 2\n",
    "beta = 1/temperatura\n",
    "\n",
    "x, y, spins = cria_inicial(L)\n",
    "viz = vizinhos(N)\n",
    "ener, mag = energia(spins,viz)\n",
    "exp = expos(beta)\n",
    "\n",
    "passos = 110000\n",
    "limite = 10000\n",
    "numero_caixas = 10\n",
    "tamanho_caixa = int((passos-limite)/numero_caixas)\n",
    "\n",
    "lista_energia = np.zeros(tamanho_caixa)\n",
    "lista_energia[0] = ener\n",
    "lista_mag = np.zeros(tamanho_caixa)\n",
    "lista_mag[0] = mag\n",
    "lista_calores = np.zeros(numero_caixas)\n",
    "lista_sus = np.zeros(numero_caixas)\n",
    "\n",
    "calor_esp = np.zeros(numero_caixas)\n",
    "suscept = np.zeros(numero_caixas)\n",
    "\n",
    "for _ in range(limite):\n",
    "    spins, ener, mag = monte_carlo_passo(spins, viz, exp, ener, mag)\n",
    "    \n",
    "for i in range(numero_caixas):\n",
    "    for a in range(tamanho_caixa): \n",
    "        spins, ener, mag = monte_carlo_passo(spins, viz, exp, ener, mag)\n",
    "        lista_energia[a] = ener\n",
    "        lista_mag[a] = mag\n",
    "        \n",
    "    \"\"\"plt.figure(figsize=(6,4))\n",
    "    plt.title(\"Temperature = \" + str(temperatura))\n",
    "    plt.plot(lista_energia)\n",
    "    plt.plot(lista_mag)\n",
    "    plt.show()\"\"\"\n",
    "        \n",
    "    media_energia = calcula_media(lista_energia)\n",
    "    media_quad_energia = calcula_media_quadrado(lista_energia)\n",
    "    \n",
    "    media_mag = calcula_media(lista_mag)\n",
    "    media_quad_mag = calcula_media_quadrado(lista_mag)\n",
    "    \n",
    "    calor_esp[i] = beta*beta/N * (media_quad_energia - (media_energia * media_energia))\n",
    "    suscept[i] = beta/N * (media_quad_mag - (media_mag * media_mag))\n",
    "    \n",
    "    lista_energia = np.zeros(tamanho_caixa)\n",
    "    lista_mag = np.zeros(tamanho_caixa)\n",
    "\n",
    "calor_especifico = calcula_media(calor_esp)\n",
    "susceptibilidade_magnetica = calcula_media(suscept)\n",
    "\n",
    "erro_calor = 0\n",
    "erro_sus = 0\n",
    "\n",
    "for i in range(numero_caixas):\n",
    "    erro_calor += (calor_especifico - calor_esp[i]) * (calor_especifico - calor_esp[i])\n",
    "    erro_sus += (susceptibilidade_magnetica - suscept[i]) * (susceptibilidade_magnetica - suscept[i])\n",
    "\n",
    "erro_calor = erro_calor/(numero_caixas * (numero_caixas - 1))\n",
    "erro_sus = erro_sus/(numero_caixas * (numero_caixas - 1))\n",
    "\n",
    "erro_calor = pow(erro_calor, 0.5)\n",
    "erro_sus = pow(erro_sus, 0.5)\n",
    "\n",
    "print(calor_especifico, erro_calor)\n",
    "print(susceptibilidade_magnetica, erro_sus)"
   ]
  },
  {
   "cell_type": "code",
   "execution_count": 47,
   "metadata": {},
   "outputs": [],
   "source": [
    "@nb.njit\n",
    "def simular(L, temperatura, spins):\n",
    "    N = L*L\n",
    "    beta = 1/temperatura\n",
    "\n",
    "    x, y, spins = cria_inicial(L)\n",
    "    viz = vizinhos(N)\n",
    "    ener, mag = energia(spins,viz)\n",
    "    exp = expos(beta)\n",
    "\n",
    "    passos = 110000\n",
    "    limite = 10000\n",
    "    numero_caixas = 10\n",
    "    tamanho_caixa = int((passos-limite)/numero_caixas)\n",
    "\n",
    "    lista_energia = np.zeros(tamanho_caixa)\n",
    "    lista_energia[0] = ener\n",
    "    lista_mag = np.zeros(tamanho_caixa)\n",
    "    lista_mag[0] = mag\n",
    "    lista_calores = np.zeros(numero_caixas)\n",
    "    lista_sus = np.zeros(numero_caixas)\n",
    "    energia_mestra = np.zeros(numero_caixas)\n",
    "    magnetizacao_mestra = np.zeros(numero_caixas)\n",
    "\n",
    "    calor_esp = np.zeros(numero_caixas)\n",
    "    suscept = np.zeros(numero_caixas)\n",
    "\n",
    "    for _ in range(limite):\n",
    "        spins, ener, mag = monte_carlo_passo(spins, viz, exp, ener, mag)\n",
    "\n",
    "    for i in range(numero_caixas):\n",
    "        for a in range(tamanho_caixa): \n",
    "            spins, ener, mag = monte_carlo_passo(spins, viz, exp, ener, mag)\n",
    "            lista_energia[a] = ener\n",
    "            lista_mag[a] = mag\n",
    "\n",
    "        media_energia = calcula_media(lista_energia)\n",
    "        media_quad_energia = calcula_media_quadrado(lista_energia)\n",
    "\n",
    "        media_mag = calcula_media(lista_mag)\n",
    "        media_quad_mag = calcula_media_quadrado(lista_mag)\n",
    "\n",
    "        energia_mestra[i] = media_energia/N\n",
    "        magnetizacao_mestra[i] = media_mag/N\n",
    "        calor_esp[i] = beta*beta/N * (media_quad_energia - (media_energia * media_energia))\n",
    "        suscept[i] = beta/N * (media_quad_mag - (media_mag * media_mag))\n",
    "\n",
    "        lista_energia = np.zeros(tamanho_caixa)\n",
    "        lista_mag = np.zeros(tamanho_caixa)\n",
    "\n",
    "    energia_final = calcula_media(energia_mestra)\n",
    "    magnetizacao_final = calcula_media(magnetizacao_mestra)\n",
    "    calor_especifico = calcula_media(calor_esp)\n",
    "    susceptibilidade_magnetica = calcula_media(suscept)\n",
    "\n",
    "    erro_ener = 0\n",
    "    erro_mag = 0\n",
    "    erro_calor = 0\n",
    "    erro_sus = 0\n",
    "    \n",
    "    for i in range(numero_caixas):\n",
    "        erro_ener += (energia_final - energia_mestra[i]) * (energia_final - energia_mestra[i])\n",
    "        erro_mag += (magnetizacao_final - magnetizacao_mestra[i]) * (magnetizacao_final - magnetizacao_mestra[i])\n",
    "        erro_calor += (calor_especifico - calor_esp[i]) * (calor_especifico - calor_esp[i])\n",
    "        erro_sus += (susceptibilidade_magnetica - suscept[i]) * (susceptibilidade_magnetica - suscept[i])\n",
    "     \n",
    "    erro_ener = erro_ener/(numero_caixas * (numero_caixas - 1))\n",
    "    erro_mag = erro_mag/(numero_caixas * (numero_caixas - 1))\n",
    "    erro_calor = erro_calor/(numero_caixas * (numero_caixas - 1))\n",
    "    erro_sus = erro_sus/(numero_caixas * (numero_caixas - 1))\n",
    "\n",
    "    erro_ener = np.power(erro_ener, 0.5)\n",
    "    erro_mag = np.power(erro_mag, 0.5)\n",
    "    erro_calor = np.power(erro_calor, 0.5)\n",
    "    erro_sus = np.power(erro_sus, 0.5)\n",
    "\n",
    "    return spins, energia_final, erro_ener, magnetizacao_final, erro_mag, calor_especifico, erro_calor, susceptibilidade_magnetica, erro_sus"
   ]
  },
  {
   "cell_type": "code",
   "execution_count": 79,
   "metadata": {},
   "outputs": [],
   "source": [
    "Ls = [18, 24, 36, 48]\n",
    "temps = np.linspace(3,2,11,endpoint=True)\n",
    "\n",
    "len_ls = len(Ls)\n",
    "len_temps = len(temps)\n",
    "\n",
    "eners = np.zeros((len_ls,len_temps))\n",
    "mags = np.zeros((len_ls,len_temps))\n",
    "calores = np.zeros((len_ls,len_temps))\n",
    "suscepts = np.zeros((len_ls,len_temps))\n",
    "\n",
    "erros_ener = np.zeros((len_ls,len_temps))\n",
    "erros_mag = np.zeros((len_ls,len_temps))\n",
    "erros_calor = np.zeros((len_ls,len_temps))\n",
    "erros_suscept = np.zeros((len_ls,len_temps))\n",
    "\n",
    "for i in range(len_ls):\n",
    "    spins = cria_inicial(Ls[i])[2]\n",
    "    \n",
    "    for j in range(len_temps):\n",
    "        results = simular(Ls[i], temps[j], spins)\n",
    "        spins = results[0]\n",
    "        eners[i][j] = results[1]\n",
    "        erros_ener[i][j] = results[2]\n",
    "        mags[i][j] = results[3]\n",
    "        erros_mag[i][j] = results[4]\n",
    "        calores[i][j] = results[5]\n",
    "        erros_calor[i][j] = results[6]\n",
    "        suscepts[i][j] = results[7]\n",
    "        erros_suscept[i][j] = results[8]      "
   ]
  },
  {
   "cell_type": "code",
   "execution_count": 143,
   "metadata": {},
   "outputs": [
    {
     "data": {
      "image/png": "[encoded data removed]",
      "text/plain": [
       "<Figure size 720x432 with 1 Axes>"
      ]
     },
     "metadata": {
      "needs_background": "light"
     },
     "output_type": "display_data"
    }
   ],
   "source": [
    "plt.figure(figsize=(10,6))\n",
    "plt.title(\"Energia por spin\")\n",
    "plt.errorbar(temps, eners[0], yerr=erros_ener[0], capsize=5, label=\"L = 18\",fmt='-o')\n",
    "plt.errorbar(temps, eners[1], yerr=erros_ener[1], capsize=5, label=\"L = 24\",fmt='-o')\n",
    "plt.errorbar(temps, eners[2], yerr=erros_ener[2], capsize=5, label=\"L = 36\",fmt='-o')\n",
    "plt.errorbar(temps, eners[3], yerr=erros_ener[3], capsize=5, label=\"L = 48\",fmt='-o')\n",
    "plt.legend()\n",
    "plt.show()"
   ]
  },
  {
   "cell_type": "code",
   "execution_count": 144,
   "metadata": {},
   "outputs": [
    {
     "data": {
      "image/png": "[encoded data removed]",
      "text/plain": [
       "<Figure size 720x432 with 1 Axes>"
      ]
     },
     "metadata": {
      "needs_background": "light"
     },
     "output_type": "display_data"
    }
   ],
   "source": [
    "plt.figure(figsize=(10,6))\n",
    "plt.title(\"Susceptibilidade magnética\")\n",
    "plt.errorbar(temps, suscepts[0], yerr=erros_suscept[0], capsize=5, label=\"L = 18\", fmt='-o')\n",
    "plt.errorbar(temps, suscepts[1], yerr=erros_suscept[1], capsize=5, label=\"L = 24\", fmt='-o')\n",
    "plt.errorbar(temps, suscepts[2], yerr=erros_suscept[2], capsize=5, label=\"L = 36\", fmt='-o')\n",
    "plt.errorbar(temps, suscepts[3], yerr=erros_suscept[3], capsize=5, label=\"L = 48\", fmt='-o')\n",
    "plt.legend()\n",
    "plt.show()"
   ]
  },
  {
   "cell_type": "code",
   "execution_count": null,
   "metadata": {},
   "outputs": [],
   "source": []
  },
  {
   "cell_type": "code",
   "execution_count": 88,
   "metadata": {},
   "outputs": [
    {
     "data": {
      "text/plain": [
       "array([ 0.02801028,  0.03092943,  0.06485519,  0.06705396,  0.19741352,\n",
       "        0.1581419 ,  0.33120572,  0.72754731,  9.86266455, 11.45995991,\n",
       "       13.06374035])"
      ]
     },
     "execution_count": 88,
     "metadata": {},
     "output_type": "execute_result"
    }
   ],
   "source": [
    "erros_suscept[0]"
   ]
  },
  {
   "cell_type": "code",
   "execution_count": null,
   "metadata": {},
   "outputs": [],
   "source": []
  }
 ],
 "metadata": {
  "kernelspec": {
   "display_name": "Python 3",
   "language": "python",
   "name": "python3"
  },
  "language_info": {
   "codemirror_mode": {
    "name": "ipython",
    "version": 3
   },
   "file_extension": ".py",
   "mimetype": "text/x-python",
   "name": "python",
   "nbconvert_exporter": "python",
   "pygments_lexer": "ipython3",
   "version": "3.7.4"
  }
 },
 "nbformat": 4,
 "nbformat_minor": 4
}
